{
 "cells": [
  {
   "cell_type": "code",
   "execution_count": 124,
   "id": "d017f34d",
   "metadata": {},
   "outputs": [],
   "source": [
    "from pymongo import MongoClient\n",
    "from datetime import datetime"
   ]
  },
  {
   "cell_type": "code",
   "execution_count": 125,
   "id": "d6db7280",
   "metadata": {},
   "outputs": [],
   "source": [
    "def connect_mongodb(uri,db_name, collection_name):\n",
    "    # Connect to MongoDB \n",
    "    client = MongoClient(uri)\n",
    "    \n",
    "    # Select the database and collection\n",
    "    db = client[db_name]\n",
    "    collection = db[collection_name]\n",
    "    \n",
    "    return collection\n",
    "def query_mongodb(collection, query, fields=None):\n",
    "    \"\"\"\n",
    "    Queries the MongoDB collection and returns specific fields or all fields if no specific ones are provided.\n",
    "    \n",
    "    Args:\n",
    "        collection: The MongoDB collection object.\n",
    "        query (dict): The query to filter documents.\n",
    "        fields (list): List of fields to return from the query. If None, all fields are returned.\n",
    "    \n",
    "    Returns:\n",
    "        result: List of documents with the specified fields or all fields.\n",
    "    \"\"\"\n",
    "    # If fields is None, return all fields\n",
    "    if fields:\n",
    "        # Return only the specified fields\n",
    "        projection = {field: 1 for field in fields}\n",
    "    else:\n",
    "        # Return all fields\n",
    "        projection = None\n",
    "    \n",
    "    # Perform the query\n",
    "    result = collection.find(query, projection)\n",
    "    \n",
    "    # Convert the cursor to a list and return\n",
    "    return list(result)"
   ]
  },
  {
   "cell_type": "code",
   "execution_count": 126,
   "id": "533f3634",
   "metadata": {},
   "outputs": [],
   "source": [
    "def get_field_from_mongodb(collection, condition_field, search_value, search_field):\n",
    "    \"\"\"\n",
    "    Retrieve a specific field value from a MongoDB document by a dynamic _id field.\n",
    "\n",
    "    Parameters:\n",
    "        collection: MongoDB collection object obtained from `connect_mongodb`.\n",
    "        id_field (str): The key name of the _id field.\n",
    "        document_id (Any): The value of the _id field to search.\n",
    "        field_name (str): The field name to retrieve.\n",
    "\n",
    "    Returns:\n",
    "        Any: The value of the specified field, or None if not found.\n",
    "    \"\"\"\n",
    "    try:\n",
    "        # Query the document by a dynamic _id field\n",
    "        query = {condition_field: search_value}\n",
    "        projection = {search_field: 1, \"_id\": 0}\n",
    "        document = collection.find_one(query, projection)\n",
    "\n",
    "        # Return the field value if the document is found\n",
    "        if document:\n",
    "            return document.get(search_field)\n",
    "        else:\n",
    "            print(f\"No document found with {condition_field}: {search_value}\")\n",
    "            return None\n",
    "    except Exception as e:\n",
    "        print(f\"An error occurred: {e}\")\n",
    "        return None"
   ]
  },
  {
   "cell_type": "code",
   "execution_count": 127,
   "id": "6bc31c31",
   "metadata": {},
   "outputs": [],
   "source": [
    "def write_log(log_file, log_text):\n",
    "    try:\n",
    "        # Get the current timestamp\n",
    "        timestamp = datetime.now().strftime(\"%Y-%m-%d %H:%M:%S\")\n",
    "        # Write the log message to the file\n",
    "        with open(log_file, 'a') as file:\n",
    "            file.write(f\"[{timestamp}] {log_text}\\n\")\n",
    "    except Exception as e:\n",
    "        print(f\"Failed to write log: {e}\")"
   ]
  },
  {
   "cell_type": "code",
   "execution_count": 128,
   "id": "935d42e0",
   "metadata": {},
   "outputs": [],
   "source": [
    "# def extract_values(data):\n",
    "#     result = []\n",
    "#     for element in data:\n",
    "#         values = list(element.values())\n",
    "#         result.extend(values)\n",
    "#     return result\n",
    "def extract_values(data):\n",
    "    result = []\n",
    "    for element in data:\n",
    "        if isinstance(element, dict):  # Check if element is a dictionary\n",
    "            values = list(element.values())\n",
    "            result.extend(values)\n",
    "        else:\n",
    "            # If element is not a dictionary, append it directly\n",
    "            result.append(element)\n",
    "    return result\n"
   ]
  },
  {
   "cell_type": "code",
   "execution_count": 129,
   "id": "048ccf6d",
   "metadata": {},
   "outputs": [],
   "source": [
    "def value_exists(array, check_value):\n",
    "    \"\"\"\n",
    "    Check if a value exists in the array.\n",
    "\n",
    "    Args:\n",
    "        array (list): The array to check.\n",
    "        value (any): The value to search for.\n",
    "\n",
    "    Returns:\n",
    "        bool: True if the value exists in the array, False otherwise.\n",
    "    \"\"\"\n",
    "    return check_value in array"
   ]
  },
  {
   "cell_type": "code",
   "execution_count": 130,
   "id": "1634a883",
   "metadata": {},
   "outputs": [],
   "source": [
    "mongoDB_uri = 'mongodb://localhost:27017'\n",
    "mongoDB_database = 'wearable-project' \n",
    "mongoDB_collection = 'wearable-app'\n",
    "log_file_name = \"tag-meta-data-check.log\""
   ]
  },
  {
   "cell_type": "code",
   "execution_count": 131,
   "id": "c97c3ec3",
   "metadata": {},
   "outputs": [
    {
     "name": "stdout",
     "output_type": "stream",
     "text": [
      "-------Process app_id:  revox.voxnet\n",
      "not-found\n",
      "False\n"
     ]
    }
   ],
   "source": [
    "# Connect to the MongoDB collection\n",
    "collection = connect_mongodb(mongoDB_uri,mongoDB_database,mongoDB_collection)\n",
    "# Specify the fields you want to return (e.g., '_id', 'apkfile_name')\n",
    "fields = ['_id']\n",
    "\n",
    "# Fetch the specified fields only\n",
    "result = query_mongodb(collection,None, fields)\n",
    "# print(result)\n",
    "for i in range(len(result)):\n",
    "    app_id = result[i][\"_id\"]\n",
    "    print(\"-------Process app_id: \",app_id)\n",
    "    write_log(log_file_name, \"-------Process app_id: \"+app_id)\n",
    "    condition_field = '_id'  \n",
    "    search_field = 'tag-meta-data'\n",
    "    tag_meta_data = get_field_from_mongodb(collection, condition_field, app_id , search_field)\n",
    "#     print(tag_meta_data)\n",
    "    array_value = extract_values(tag_meta_data)\n",
    "#     print(len(array_value))\n",
    "#     print(array_value)\n",
    "    write_log(log_file_name, array_value)\n",
    "    check = value_exists(array_value, \"com.google.android.wearable.standalone\")\n",
    "    print(check)\n",
    "    write_log(log_file_name, check)\n",
    "#     print(tag_meta_data)\n",
    "#     print(len(tag_meta_data))\n",
    "#     for j in range(len(tag_meta_data)):\n",
    "#         print(tag_meta_data[j])\n",
    "#     break"
   ]
  }
 ],
 "metadata": {
  "kernelspec": {
   "display_name": "Python 3 (ipykernel)",
   "language": "python",
   "name": "python3"
  },
  "language_info": {
   "codemirror_mode": {
    "name": "ipython",
    "version": 3
   },
   "file_extension": ".py",
   "mimetype": "text/x-python",
   "name": "python",
   "nbconvert_exporter": "python",
   "pygments_lexer": "ipython3",
   "version": "3.9.13"
  }
 },
 "nbformat": 4,
 "nbformat_minor": 5
}
