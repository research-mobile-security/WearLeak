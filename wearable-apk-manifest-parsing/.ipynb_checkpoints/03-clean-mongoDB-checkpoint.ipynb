{
 "cells": [
  {
   "cell_type": "code",
   "execution_count": 2,
   "id": "82e5f82b",
   "metadata": {},
   "outputs": [
    {
     "name": "stdout",
     "output_type": "stream",
     "text": [
      "Data cleaned and updated in MongoDB.\n"
     ]
    }
   ],
   "source": [
    "from pymongo import MongoClient\n",
    "import json\n",
    "\n",
    "# MongoDB connection settings\n",
    "mongoDB_uri = 'mongodb://localhost:27017'\n",
    "mongoDB_database = 'wearable-project'\n",
    "# mongoDB_collection = 'wearable-app'\n",
    "# stand alone\n",
    "mongoDB_collection = 'wearable-standalone'\n",
    "\n",
    "def connect_mongodb(uri, db_name, collection_name):\n",
    "    # Connect to MongoDB\n",
    "    client = MongoClient(uri)\n",
    "    db = client[db_name]\n",
    "    collection = db[collection_name]\n",
    "    return collection\n",
    "\n",
    "def clean_android_schema(data):\n",
    "    # List of tags to clean\n",
    "    tags_to_clean = [\n",
    "        \"tag-meta-data\", \"tag-action\", \"tag-application\", \"tag-data\",\n",
    "        \"tag-property\", \"tag-provider\", \"tag-receiver\", \"tag-service\",\n",
    "        \"tag-uses-configuration\", \"tag-uses-feature\", \"tag-uses-library\"\n",
    "    ]\n",
    "    # Iterate through keys that contain a list of dictionaries\n",
    "    for key in tags_to_clean:\n",
    "        if key in data and isinstance(data[key], list):\n",
    "            for item in data[key]:\n",
    "                for old_key in list(item.keys()):\n",
    "                    new_key = old_key.replace('{http://schemas.android.com/apk/res/android}', '')\n",
    "                    if new_key != old_key:\n",
    "                        item[new_key] = item.pop(old_key)\n",
    "    return data\n",
    "\n",
    "# Connect to MongoDB\n",
    "collection = connect_mongodb(mongoDB_uri, mongoDB_database, mongoDB_collection)\n",
    "\n",
    "# Fetch all documents and clean them\n",
    "for document in collection.find():\n",
    "    cleaned_data = clean_android_schema(document)\n",
    "    collection.update_one({\"_id\": document[\"_id\"]}, {\"$set\": cleaned_data})\n",
    "\n",
    "print(\"Data cleaned and updated in MongoDB.\")\n"
   ]
  }
 ],
 "metadata": {
  "kernelspec": {
   "display_name": "Python 3 (ipykernel)",
   "language": "python",
   "name": "python3"
  },
  "language_info": {
   "codemirror_mode": {
    "name": "ipython",
    "version": 3
   },
   "file_extension": ".py",
   "mimetype": "text/x-python",
   "name": "python",
   "nbconvert_exporter": "python",
   "pygments_lexer": "ipython3",
   "version": "3.9.13"
  }
 },
 "nbformat": 4,
 "nbformat_minor": 5
}
