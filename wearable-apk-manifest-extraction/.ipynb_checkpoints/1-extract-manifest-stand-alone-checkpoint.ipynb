{
 "cells": [
  {
   "cell_type": "code",
   "execution_count": 26,
   "id": "d7a7be7b",
   "metadata": {},
   "outputs": [],
   "source": [
    "# import library\n",
    "from androguard.core.bytecodes.apk import APK\n",
    "import xml.etree.ElementTree as ET\n",
    "import xml.dom.minidom as minidom\n",
    "import pandas as pd\n",
    "import os\n",
    "import xmltodict\n",
    "import json\n",
    "import warnings\n",
    "from datetime import datetime"
   ]
  },
  {
   "cell_type": "code",
   "execution_count": 27,
   "id": "a9b6dc07",
   "metadata": {},
   "outputs": [],
   "source": [
    "# 1. Read CSV data file\n",
    "apk_path = r\"C:\\Users\\ASUS\\anaconda3\\wearable-standard-app\\apk-standalone\"\n",
    "manifest_directory = r\"C:\\Users\\ASUS\\anaconda3\\wearable-apk-manifest\\manifest-wearable-standalone\"\n",
    "extract_manifest_log = \"extract_manifest_standalone_log.txt\""
   ]
  },
  {
   "cell_type": "code",
   "execution_count": 28,
   "id": "9d12e388",
   "metadata": {},
   "outputs": [],
   "source": [
    "# Funtion read CSV with condition\n",
    "def read_csv_and_filter(file_path):\n",
    "    # Read the CSV file into a pandas DataFrame\n",
    "    df = pd.read_csv(file_path)\n",
    "\n",
    "    # Filter rows where the 'manifest' column has a NaN value\n",
    "    filtered_df = df[df['extract_manifest'].isna()]\n",
    "\n",
    "    # Extract the 'apkfile_name' column from the filtered DataFrame\n",
    "    apkfile_names = filtered_df['pkg_name'].tolist()\n",
    "\n",
    "    return apkfile_names\n",
    "def exportManifestFile(file_path,manifest_directory):\n",
    "    warnings.filterwarnings(\"ignore\", category=UserWarning, module=\"androguard.core.bytecodes.axml\")\n",
    "    # Load the APK\n",
    "    apk = APK(file_path)\n",
    "    # Get the AndroidManifest.xml content\n",
    "    manifest_xml = apk.get_android_manifest_xml()\n",
    "    # Convert XML to a string\n",
    "    xml_string = ET.tostring(manifest_xml, encoding='utf-8', method='xml').decode('utf-8')\n",
    "    # Parse XML string\n",
    "    xml_dom = minidom.parseString(xml_string)\n",
    "\n",
    "    # Create manifest directory if it does not exist\n",
    "    manifest_directory = manifest_directory\n",
    "    if not os.path.exists(manifest_directory):\n",
    "        os.makedirs(manifest_directory)\n",
    "\n",
    "    # Export prettified XML to a file in the manifest directory\n",
    "    output_file = manifest_directory+\"\\\\\"+get_filename_without_extension(file_path)+\"-AndroidManifest.xml\"\n",
    "    with open(output_file, \"w\", encoding='utf-8') as file:\n",
    "        file.write(xml_dom.toprettyxml())\n",
    "\n",
    "    print(f\"AndroidManifest.xml exported to {output_file}\")\n",
    "# Funtion update CSV data\n",
    "def update_csv_column(csv_path, condition_column, condition_value, update_column, new_value):\n",
    "    # Read the CSV file into a DataFrame\n",
    "    df = pd.read_csv(csv_path)\n",
    "    \n",
    "    # Ensure the update_column is of type object (can hold strings)\n",
    "    df[update_column] = df[update_column].astype(object)\n",
    "\n",
    "    # Update the specified column based on the condition\n",
    "    df.loc[df[condition_column] == condition_value, update_column] = str(new_value)\n",
    "\n",
    "    # Write the updated DataFrame back to the CSV file\n",
    "    df.to_csv(csv_path, index=False)\n",
    "def write_log(log_file, log_text):\n",
    "    try:\n",
    "        # Get the current timestamp\n",
    "        timestamp = datetime.now().strftime(\"%Y-%m-%d %H:%M:%S\")\n",
    "        # Write the log message to the file\n",
    "        with open(log_file, 'a') as file:\n",
    "            file.write(f\"[{timestamp}] {log_text}\\n\")\n",
    "    except Exception as e:\n",
    "        print(f\"Failed to write log: {e}\")\n",
    "def get_all_filenames(directory_path):\n",
    "    \"\"\"\n",
    "    Get all filenames under the specified path and store them in an array.\n",
    "\n",
    "    :param directory_path: The path to the directory to search.\n",
    "    :return: A list of filenames (with full paths).\n",
    "    \"\"\"\n",
    "    filenames = []\n",
    "    for root, dirs, files in os.walk(directory_path):\n",
    "        for file in files:\n",
    "            filenames.append(os.path.join(root, file))\n",
    "    return filenames\n",
    "def get_filename_without_extension(filepath):\n",
    "    # Extract the base name (filename with extension)\n",
    "    base_name = os.path.basename(filepath)\n",
    "    # Remove the extension\n",
    "    filename_without_ext = os.path.splitext(base_name)[0]\n",
    "    return filename_without_ext"
   ]
  },
  {
   "cell_type": "code",
   "execution_count": 29,
   "id": "b6280947",
   "metadata": {},
   "outputs": [
    {
     "name": "stdout",
     "output_type": "stream",
     "text": [
      "78\n"
     ]
    }
   ],
   "source": [
    "#MAIN\n",
    "all_filenames = get_all_filenames(apk_path)\n",
    "print(len(all_filenames))\n",
    "#print(all_filenames)"
   ]
  },
  {
   "cell_type": "code",
   "execution_count": 30,
   "id": "11e3852b",
   "metadata": {},
   "outputs": [
    {
     "name": "stderr",
     "output_type": "stream",
     "text": [
      "Requested API level 34 is larger than maximum we have, returning API level 28 instead.\n",
      "Requested API level 33 is larger than maximum we have, returning API level 28 instead.\n"
     ]
    },
    {
     "name": "stdout",
     "output_type": "stream",
     "text": [
      "APK Filename:  C:\\Users\\ASUS\\anaconda3\\wearable-standard-app\\apk-standalone\\app.groupcal.www.apk\n",
      "AndroidManifest.xml exported to C:\\Users\\ASUS\\anaconda3\\wearable-standard-app\\apk-standalone\\app.groupcal.www-AndroidManifest.xml\n",
      "APK Filename:  C:\\Users\\ASUS\\anaconda3\\wearable-standard-app\\apk-standalone\\app.groupcal.www.apk\n",
      "AndroidManifest.xml exported to C:\\Users\\ASUS\\anaconda3\\wearable-standard-app\\apk-standalone\\app.groupcal.www-AndroidManifest.xml\n",
      "APK Filename:  C:\\Users\\ASUS\\anaconda3\\wearable-standard-app\\apk-standalone\\app.groupcal.www.apk\n"
     ]
    },
    {
     "name": "stderr",
     "output_type": "stream",
     "text": [
      "Requested API level 34 is larger than maximum we have, returning API level 28 instead.\n",
      "Requested API level 33 is larger than maximum we have, returning API level 28 instead.\n",
      "Requested API level 30 is larger than maximum we have, returning API level 28 instead.\n"
     ]
    },
    {
     "name": "stdout",
     "output_type": "stream",
     "text": [
      "AndroidManifest.xml exported to C:\\Users\\ASUS\\anaconda3\\wearable-standard-app\\apk-standalone\\app.groupcal.www-AndroidManifest.xml\n",
      "APK Filename:  C:\\Users\\ASUS\\anaconda3\\wearable-standard-app\\apk-standalone\\app.groupcal.www.apk\n",
      "AndroidManifest.xml exported to C:\\Users\\ASUS\\anaconda3\\wearable-standard-app\\apk-standalone\\app.groupcal.www-AndroidManifest.xml\n",
      "APK Filename:  C:\\Users\\ASUS\\anaconda3\\wearable-standard-app\\apk-standalone\\app.groupcal.www.apk\n",
      "AndroidManifest.xml exported to C:\\Users\\ASUS\\anaconda3\\wearable-standard-app\\apk-standalone\\app.groupcal.www-AndroidManifest.xml\n",
      "APK Filename:  C:\\Users\\ASUS\\anaconda3\\wearable-standard-app\\apk-standalone\\app.groupcal.www.apk\n"
     ]
    },
    {
     "name": "stderr",
     "output_type": "stream",
     "text": [
      "Requested API level 33 is larger than maximum we have, returning API level 28 instead.\n",
      "Requested API level 34 is larger than maximum we have, returning API level 28 instead.\n",
      "Requested API level 33 is larger than maximum we have, returning API level 28 instead.\n"
     ]
    },
    {
     "name": "stdout",
     "output_type": "stream",
     "text": [
      "AndroidManifest.xml exported to C:\\Users\\ASUS\\anaconda3\\wearable-standard-app\\apk-standalone\\app.groupcal.www-AndroidManifest.xml\n",
      "APK Filename:  C:\\Users\\ASUS\\anaconda3\\wearable-standard-app\\apk-standalone\\app.groupcal.www.apk\n",
      "AndroidManifest.xml exported to C:\\Users\\ASUS\\anaconda3\\wearable-standard-app\\apk-standalone\\app.groupcal.www-AndroidManifest.xml\n",
      "APK Filename:  C:\\Users\\ASUS\\anaconda3\\wearable-standard-app\\apk-standalone\\app.groupcal.www.apk\n",
      "AndroidManifest.xml exported to C:\\Users\\ASUS\\anaconda3\\wearable-standard-app\\apk-standalone\\app.groupcal.www-AndroidManifest.xml\n",
      "APK Filename:  C:\\Users\\ASUS\\anaconda3\\wearable-standard-app\\apk-standalone\\app.groupcal.www.apk\n"
     ]
    },
    {
     "name": "stderr",
     "output_type": "stream",
     "text": [
      "Requested API level 31 is larger than maximum we have, returning API level 28 instead.\n",
      "Requested API level 34 is larger than maximum we have, returning API level 28 instead.\n",
      "Requested API level 34 is larger than maximum we have, returning API level 28 instead.\n"
     ]
    },
    {
     "name": "stdout",
     "output_type": "stream",
     "text": [
      "AndroidManifest.xml exported to C:\\Users\\ASUS\\anaconda3\\wearable-standard-app\\apk-standalone\\app.groupcal.www-AndroidManifest.xml\n",
      "APK Filename:  C:\\Users\\ASUS\\anaconda3\\wearable-standard-app\\apk-standalone\\app.groupcal.www.apk\n",
      "AndroidManifest.xml exported to C:\\Users\\ASUS\\anaconda3\\wearable-standard-app\\apk-standalone\\app.groupcal.www-AndroidManifest.xml\n",
      "APK Filename:  C:\\Users\\ASUS\\anaconda3\\wearable-standard-app\\apk-standalone\\app.groupcal.www.apk\n",
      "AndroidManifest.xml exported to C:\\Users\\ASUS\\anaconda3\\wearable-standard-app\\apk-standalone\\app.groupcal.www-AndroidManifest.xml\n",
      "APK Filename:  C:\\Users\\ASUS\\anaconda3\\wearable-standard-app\\apk-standalone\\app.groupcal.www.apk\n"
     ]
    },
    {
     "name": "stderr",
     "output_type": "stream",
     "text": [
      "Requested API level 33 is larger than maximum we have, returning API level 28 instead.\n",
      "Requested API level 34 is larger than maximum we have, returning API level 28 instead.\n",
      "Requested API level 34 is larger than maximum we have, returning API level 28 instead.\n"
     ]
    },
    {
     "name": "stdout",
     "output_type": "stream",
     "text": [
      "AndroidManifest.xml exported to C:\\Users\\ASUS\\anaconda3\\wearable-standard-app\\apk-standalone\\app.groupcal.www-AndroidManifest.xml\n",
      "APK Filename:  C:\\Users\\ASUS\\anaconda3\\wearable-standard-app\\apk-standalone\\app.groupcal.www.apk\n",
      "AndroidManifest.xml exported to C:\\Users\\ASUS\\anaconda3\\wearable-standard-app\\apk-standalone\\app.groupcal.www-AndroidManifest.xml\n",
      "APK Filename:  C:\\Users\\ASUS\\anaconda3\\wearable-standard-app\\apk-standalone\\app.groupcal.www.apk\n",
      "AndroidManifest.xml exported to C:\\Users\\ASUS\\anaconda3\\wearable-standard-app\\apk-standalone\\app.groupcal.www-AndroidManifest.xml\n",
      "APK Filename:  C:\\Users\\ASUS\\anaconda3\\wearable-standard-app\\apk-standalone\\app.groupcal.www.apk\n",
      "AndroidManifest.xml exported to C:\\Users\\ASUS\\anaconda3\\wearable-standard-app\\apk-standalone\\app.groupcal.www-AndroidManifest.xml\n",
      "APK Filename:  C:\\Users\\ASUS\\anaconda3\\wearable-standard-app\\apk-standalone\\app.groupcal.www.apk\n"
     ]
    },
    {
     "name": "stderr",
     "output_type": "stream",
     "text": [
      "Requested API level 34 is larger than maximum we have, returning API level 28 instead.\n",
      "Requested API level 33 is larger than maximum we have, returning API level 28 instead.\n"
     ]
    },
    {
     "name": "stdout",
     "output_type": "stream",
     "text": [
      "AndroidManifest.xml exported to C:\\Users\\ASUS\\anaconda3\\wearable-standard-app\\apk-standalone\\app.groupcal.www-AndroidManifest.xml\n",
      "APK Filename:  C:\\Users\\ASUS\\anaconda3\\wearable-standard-app\\apk-standalone\\app.groupcal.www.apk\n",
      "AndroidManifest.xml exported to C:\\Users\\ASUS\\anaconda3\\wearable-standard-app\\apk-standalone\\app.groupcal.www-AndroidManifest.xml\n",
      "APK Filename:  C:\\Users\\ASUS\\anaconda3\\wearable-standard-app\\apk-standalone\\app.groupcal.www.apk\n",
      "AndroidManifest.xml exported to C:\\Users\\ASUS\\anaconda3\\wearable-standard-app\\apk-standalone\\app.groupcal.www-AndroidManifest.xml\n",
      "APK Filename:  C:\\Users\\ASUS\\anaconda3\\wearable-standard-app\\apk-standalone\\app.groupcal.www.apk\n"
     ]
    },
    {
     "name": "stderr",
     "output_type": "stream",
     "text": [
      "Requested API level 34 is larger than maximum we have, returning API level 28 instead.\n",
      "Requested API level 34 is larger than maximum we have, returning API level 28 instead.\n",
      "Requested API level 34 is larger than maximum we have, returning API level 28 instead.\n"
     ]
    },
    {
     "name": "stdout",
     "output_type": "stream",
     "text": [
      "AndroidManifest.xml exported to C:\\Users\\ASUS\\anaconda3\\wearable-standard-app\\apk-standalone\\app.groupcal.www-AndroidManifest.xml\n",
      "APK Filename:  C:\\Users\\ASUS\\anaconda3\\wearable-standard-app\\apk-standalone\\app.groupcal.www.apk\n",
      "AndroidManifest.xml exported to C:\\Users\\ASUS\\anaconda3\\wearable-standard-app\\apk-standalone\\app.groupcal.www-AndroidManifest.xml\n",
      "APK Filename:  C:\\Users\\ASUS\\anaconda3\\wearable-standard-app\\apk-standalone\\app.groupcal.www.apk\n",
      "AndroidManifest.xml exported to C:\\Users\\ASUS\\anaconda3\\wearable-standard-app\\apk-standalone\\app.groupcal.www-AndroidManifest.xml\n",
      "APK Filename:  C:\\Users\\ASUS\\anaconda3\\wearable-standard-app\\apk-standalone\\app.groupcal.www.apk\n"
     ]
    },
    {
     "name": "stderr",
     "output_type": "stream",
     "text": [
      "Requested API level 34 is larger than maximum we have, returning API level 28 instead.\n",
      "Requested API level 34 is larger than maximum we have, returning API level 28 instead.\n",
      "Requested API level 34 is larger than maximum we have, returning API level 28 instead.\n",
      "Requested API level 34 is larger than maximum we have, returning API level 28 instead.\n"
     ]
    },
    {
     "name": "stdout",
     "output_type": "stream",
     "text": [
      "AndroidManifest.xml exported to C:\\Users\\ASUS\\anaconda3\\wearable-standard-app\\apk-standalone\\app.groupcal.www-AndroidManifest.xml\n",
      "APK Filename:  C:\\Users\\ASUS\\anaconda3\\wearable-standard-app\\apk-standalone\\app.groupcal.www.apk\n",
      "AndroidManifest.xml exported to C:\\Users\\ASUS\\anaconda3\\wearable-standard-app\\apk-standalone\\app.groupcal.www-AndroidManifest.xml\n",
      "APK Filename:  C:\\Users\\ASUS\\anaconda3\\wearable-standard-app\\apk-standalone\\app.groupcal.www.apk\n",
      "AndroidManifest.xml exported to C:\\Users\\ASUS\\anaconda3\\wearable-standard-app\\apk-standalone\\app.groupcal.www-AndroidManifest.xml\n",
      "APK Filename:  C:\\Users\\ASUS\\anaconda3\\wearable-standard-app\\apk-standalone\\app.groupcal.www.apk\n",
      "AndroidManifest.xml exported to C:\\Users\\ASUS\\anaconda3\\wearable-standard-app\\apk-standalone\\app.groupcal.www-AndroidManifest.xml\n",
      "APK Filename:  C:\\Users\\ASUS\\anaconda3\\wearable-standard-app\\apk-standalone\\app.groupcal.www.apk\n"
     ]
    },
    {
     "name": "stderr",
     "output_type": "stream",
     "text": [
      "Requested API level 35 is larger than maximum we have, returning API level 28 instead.\n"
     ]
    },
    {
     "name": "stdout",
     "output_type": "stream",
     "text": [
      "AndroidManifest.xml exported to C:\\Users\\ASUS\\anaconda3\\wearable-standard-app\\apk-standalone\\app.groupcal.www-AndroidManifest.xml\n",
      "APK Filename:  C:\\Users\\ASUS\\anaconda3\\wearable-standard-app\\apk-standalone\\app.groupcal.www.apk\n"
     ]
    },
    {
     "name": "stderr",
     "output_type": "stream",
     "text": [
      "Requested API level 35 is larger than maximum we have, returning API level 28 instead.\n"
     ]
    },
    {
     "name": "stdout",
     "output_type": "stream",
     "text": [
      "AndroidManifest.xml exported to C:\\Users\\ASUS\\anaconda3\\wearable-standard-app\\apk-standalone\\app.groupcal.www-AndroidManifest.xml\n",
      "APK Filename:  C:\\Users\\ASUS\\anaconda3\\wearable-standard-app\\apk-standalone\\app.groupcal.www.apk\n"
     ]
    },
    {
     "name": "stderr",
     "output_type": "stream",
     "text": [
      "Requested API level 35 is larger than maximum we have, returning API level 28 instead.\n",
      "Requested API level 35 is larger than maximum we have, returning API level 28 instead.\n",
      "Requested API level 35 is larger than maximum we have, returning API level 28 instead.\n",
      "Requested API level 35 is larger than maximum we have, returning API level 28 instead.\n"
     ]
    },
    {
     "name": "stdout",
     "output_type": "stream",
     "text": [
      "AndroidManifest.xml exported to C:\\Users\\ASUS\\anaconda3\\wearable-standard-app\\apk-standalone\\app.groupcal.www-AndroidManifest.xml\n",
      "APK Filename:  C:\\Users\\ASUS\\anaconda3\\wearable-standard-app\\apk-standalone\\app.groupcal.www.apk\n",
      "AndroidManifest.xml exported to C:\\Users\\ASUS\\anaconda3\\wearable-standard-app\\apk-standalone\\app.groupcal.www-AndroidManifest.xml\n",
      "APK Filename:  C:\\Users\\ASUS\\anaconda3\\wearable-standard-app\\apk-standalone\\app.groupcal.www.apk\n",
      "AndroidManifest.xml exported to C:\\Users\\ASUS\\anaconda3\\wearable-standard-app\\apk-standalone\\app.groupcal.www-AndroidManifest.xml\n",
      "APK Filename:  C:\\Users\\ASUS\\anaconda3\\wearable-standard-app\\apk-standalone\\app.groupcal.www.apk\n"
     ]
    },
    {
     "name": "stderr",
     "output_type": "stream",
     "text": [
      "Requested API level 35 is larger than maximum we have, returning API level 28 instead.\n"
     ]
    },
    {
     "name": "stdout",
     "output_type": "stream",
     "text": [
      "AndroidManifest.xml exported to C:\\Users\\ASUS\\anaconda3\\wearable-standard-app\\apk-standalone\\app.groupcal.www-AndroidManifest.xml\n",
      "APK Filename:  C:\\Users\\ASUS\\anaconda3\\wearable-standard-app\\apk-standalone\\app.groupcal.www.apk\n",
      "AndroidManifest.xml exported to C:\\Users\\ASUS\\anaconda3\\wearable-standard-app\\apk-standalone\\app.groupcal.www-AndroidManifest.xml\n",
      "APK Filename:  C:\\Users\\ASUS\\anaconda3\\wearable-standard-app\\apk-standalone\\app.groupcal.www.apk\n"
     ]
    },
    {
     "name": "stderr",
     "output_type": "stream",
     "text": [
      "Requested API level 33 is larger than maximum we have, returning API level 28 instead.\n",
      "Requested API level 34 is larger than maximum we have, returning API level 28 instead.\n",
      "Requested API level 34 is larger than maximum we have, returning API level 28 instead.\n",
      "Requested API level 34 is larger than maximum we have, returning API level 28 instead.\n"
     ]
    },
    {
     "name": "stdout",
     "output_type": "stream",
     "text": [
      "AndroidManifest.xml exported to C:\\Users\\ASUS\\anaconda3\\wearable-standard-app\\apk-standalone\\app.groupcal.www-AndroidManifest.xml\n",
      "APK Filename:  C:\\Users\\ASUS\\anaconda3\\wearable-standard-app\\apk-standalone\\app.groupcal.www.apk\n",
      "AndroidManifest.xml exported to C:\\Users\\ASUS\\anaconda3\\wearable-standard-app\\apk-standalone\\app.groupcal.www-AndroidManifest.xml\n",
      "APK Filename:  C:\\Users\\ASUS\\anaconda3\\wearable-standard-app\\apk-standalone\\app.groupcal.www.apk\n",
      "AndroidManifest.xml exported to C:\\Users\\ASUS\\anaconda3\\wearable-standard-app\\apk-standalone\\app.groupcal.www-AndroidManifest.xml\n",
      "APK Filename:  C:\\Users\\ASUS\\anaconda3\\wearable-standard-app\\apk-standalone\\app.groupcal.www.apk\n"
     ]
    },
    {
     "name": "stderr",
     "output_type": "stream",
     "text": [
      "Requested API level 33 is larger than maximum we have, returning API level 28 instead.\n"
     ]
    },
    {
     "name": "stdout",
     "output_type": "stream",
     "text": [
      "AndroidManifest.xml exported to C:\\Users\\ASUS\\anaconda3\\wearable-standard-app\\apk-standalone\\app.groupcal.www-AndroidManifest.xml\n",
      "APK Filename:  C:\\Users\\ASUS\\anaconda3\\wearable-standard-app\\apk-standalone\\app.groupcal.www.apk\n",
      "AndroidManifest.xml exported to C:\\Users\\ASUS\\anaconda3\\wearable-standard-app\\apk-standalone\\app.groupcal.www-AndroidManifest.xml\n",
      "APK Filename:  C:\\Users\\ASUS\\anaconda3\\wearable-standard-app\\apk-standalone\\app.groupcal.www.apk\n"
     ]
    },
    {
     "name": "stderr",
     "output_type": "stream",
     "text": [
      "Requested API level 34 is larger than maximum we have, returning API level 28 instead.\n",
      "Requested API level 33 is larger than maximum we have, returning API level 28 instead.\n",
      "Requested API level 34 is larger than maximum we have, returning API level 28 instead.\n",
      "Requested API level 34 is larger than maximum we have, returning API level 28 instead.\n",
      "Requested API level 30 is larger than maximum we have, returning API level 28 instead.\n"
     ]
    },
    {
     "name": "stdout",
     "output_type": "stream",
     "text": [
      "AndroidManifest.xml exported to C:\\Users\\ASUS\\anaconda3\\wearable-standard-app\\apk-standalone\\app.groupcal.www-AndroidManifest.xml\n",
      "APK Filename:  C:\\Users\\ASUS\\anaconda3\\wearable-standard-app\\apk-standalone\\app.groupcal.www.apk\n",
      "AndroidManifest.xml exported to C:\\Users\\ASUS\\anaconda3\\wearable-standard-app\\apk-standalone\\app.groupcal.www-AndroidManifest.xml\n",
      "APK Filename:  C:\\Users\\ASUS\\anaconda3\\wearable-standard-app\\apk-standalone\\app.groupcal.www.apk\n",
      "AndroidManifest.xml exported to C:\\Users\\ASUS\\anaconda3\\wearable-standard-app\\apk-standalone\\app.groupcal.www-AndroidManifest.xml\n",
      "APK Filename:  C:\\Users\\ASUS\\anaconda3\\wearable-standard-app\\apk-standalone\\app.groupcal.www.apk\n",
      "AndroidManifest.xml exported to C:\\Users\\ASUS\\anaconda3\\wearable-standard-app\\apk-standalone\\app.groupcal.www-AndroidManifest.xml\n",
      "APK Filename:  C:\\Users\\ASUS\\anaconda3\\wearable-standard-app\\apk-standalone\\app.groupcal.www.apk\n"
     ]
    },
    {
     "name": "stderr",
     "output_type": "stream",
     "text": [
      "Requested API level 34 is larger than maximum we have, returning API level 28 instead.\n",
      "Requested API level 29 is larger than maximum we have, returning API level 28 instead.\n",
      "Requested API level 34 is larger than maximum we have, returning API level 28 instead.\n",
      "Requested API level 34 is larger than maximum we have, returning API level 28 instead.\n",
      "Requested API level 34 is larger than maximum we have, returning API level 28 instead.\n"
     ]
    },
    {
     "name": "stdout",
     "output_type": "stream",
     "text": [
      "AndroidManifest.xml exported to C:\\Users\\ASUS\\anaconda3\\wearable-standard-app\\apk-standalone\\app.groupcal.www-AndroidManifest.xml\n",
      "APK Filename:  C:\\Users\\ASUS\\anaconda3\\wearable-standard-app\\apk-standalone\\app.groupcal.www.apk\n",
      "AndroidManifest.xml exported to C:\\Users\\ASUS\\anaconda3\\wearable-standard-app\\apk-standalone\\app.groupcal.www-AndroidManifest.xml\n",
      "APK Filename:  C:\\Users\\ASUS\\anaconda3\\wearable-standard-app\\apk-standalone\\app.groupcal.www.apk\n",
      "AndroidManifest.xml exported to C:\\Users\\ASUS\\anaconda3\\wearable-standard-app\\apk-standalone\\app.groupcal.www-AndroidManifest.xml\n",
      "APK Filename:  C:\\Users\\ASUS\\anaconda3\\wearable-standard-app\\apk-standalone\\app.groupcal.www.apk\n",
      "AndroidManifest.xml exported to C:\\Users\\ASUS\\anaconda3\\wearable-standard-app\\apk-standalone\\app.groupcal.www-AndroidManifest.xml\n",
      "APK Filename:  C:\\Users\\ASUS\\anaconda3\\wearable-standard-app\\apk-standalone\\app.groupcal.www.apk\n",
      "AndroidManifest.xml exported to C:\\Users\\ASUS\\anaconda3\\wearable-standard-app\\apk-standalone\\app.groupcal.www-AndroidManifest.xml\n",
      "APK Filename:  C:\\Users\\ASUS\\anaconda3\\wearable-standard-app\\apk-standalone\\app.groupcal.www.apk\n"
     ]
    },
    {
     "name": "stderr",
     "output_type": "stream",
     "text": [
      "Requested API level 34 is larger than maximum we have, returning API level 28 instead.\n"
     ]
    },
    {
     "name": "stdout",
     "output_type": "stream",
     "text": [
      "AndroidManifest.xml exported to C:\\Users\\ASUS\\anaconda3\\wearable-standard-app\\apk-standalone\\app.groupcal.www-AndroidManifest.xml\n",
      "APK Filename:  C:\\Users\\ASUS\\anaconda3\\wearable-standard-app\\apk-standalone\\app.groupcal.www.apk\n",
      "AndroidManifest.xml exported to C:\\Users\\ASUS\\anaconda3\\wearable-standard-app\\apk-standalone\\app.groupcal.www-AndroidManifest.xml\n",
      "APK Filename:  C:\\Users\\ASUS\\anaconda3\\wearable-standard-app\\apk-standalone\\app.groupcal.www.apk\n"
     ]
    },
    {
     "name": "stderr",
     "output_type": "stream",
     "text": [
      "Requested API level 34 is larger than maximum we have, returning API level 28 instead.\n",
      "Requested API level 34 is larger than maximum we have, returning API level 28 instead.\n",
      "Requested API level 34 is larger than maximum we have, returning API level 28 instead.\n"
     ]
    },
    {
     "name": "stdout",
     "output_type": "stream",
     "text": [
      "AndroidManifest.xml exported to C:\\Users\\ASUS\\anaconda3\\wearable-standard-app\\apk-standalone\\app.groupcal.www-AndroidManifest.xml\n",
      "APK Filename:  C:\\Users\\ASUS\\anaconda3\\wearable-standard-app\\apk-standalone\\app.groupcal.www.apk\n",
      "AndroidManifest.xml exported to C:\\Users\\ASUS\\anaconda3\\wearable-standard-app\\apk-standalone\\app.groupcal.www-AndroidManifest.xml\n",
      "APK Filename:  C:\\Users\\ASUS\\anaconda3\\wearable-standard-app\\apk-standalone\\app.groupcal.www.apk\n",
      "AndroidManifest.xml exported to C:\\Users\\ASUS\\anaconda3\\wearable-standard-app\\apk-standalone\\app.groupcal.www-AndroidManifest.xml\n",
      "APK Filename:  C:\\Users\\ASUS\\anaconda3\\wearable-standard-app\\apk-standalone\\app.groupcal.www.apk\n"
     ]
    },
    {
     "name": "stderr",
     "output_type": "stream",
     "text": [
      "Requested API level 34 is larger than maximum we have, returning API level 28 instead.\n",
      "Requested API level 34 is larger than maximum we have, returning API level 28 instead.\n",
      "Requested API level 33 is larger than maximum we have, returning API level 28 instead.\n"
     ]
    },
    {
     "name": "stdout",
     "output_type": "stream",
     "text": [
      "AndroidManifest.xml exported to C:\\Users\\ASUS\\anaconda3\\wearable-standard-app\\apk-standalone\\app.groupcal.www-AndroidManifest.xml\n",
      "APK Filename:  C:\\Users\\ASUS\\anaconda3\\wearable-standard-app\\apk-standalone\\app.groupcal.www.apk\n",
      "AndroidManifest.xml exported to C:\\Users\\ASUS\\anaconda3\\wearable-standard-app\\apk-standalone\\app.groupcal.www-AndroidManifest.xml\n",
      "APK Filename:  C:\\Users\\ASUS\\anaconda3\\wearable-standard-app\\apk-standalone\\app.groupcal.www.apk\n",
      "AndroidManifest.xml exported to C:\\Users\\ASUS\\anaconda3\\wearable-standard-app\\apk-standalone\\app.groupcal.www-AndroidManifest.xml\n",
      "APK Filename:  C:\\Users\\ASUS\\anaconda3\\wearable-standard-app\\apk-standalone\\app.groupcal.www.apk\n"
     ]
    },
    {
     "name": "stderr",
     "output_type": "stream",
     "text": [
      "Requested API level 35 is larger than maximum we have, returning API level 28 instead.\n",
      "Requested API level 33 is larger than maximum we have, returning API level 28 instead.\n"
     ]
    },
    {
     "name": "stdout",
     "output_type": "stream",
     "text": [
      "AndroidManifest.xml exported to C:\\Users\\ASUS\\anaconda3\\wearable-standard-app\\apk-standalone\\app.groupcal.www-AndroidManifest.xml\n",
      "APK Filename:  C:\\Users\\ASUS\\anaconda3\\wearable-standard-app\\apk-standalone\\app.groupcal.www.apk\n",
      "AndroidManifest.xml exported to C:\\Users\\ASUS\\anaconda3\\wearable-standard-app\\apk-standalone\\app.groupcal.www-AndroidManifest.xml\n",
      "APK Filename:  C:\\Users\\ASUS\\anaconda3\\wearable-standard-app\\apk-standalone\\app.groupcal.www.apk\n"
     ]
    },
    {
     "name": "stderr",
     "output_type": "stream",
     "text": [
      "Requested API level 34 is larger than maximum we have, returning API level 28 instead.\n",
      "Requested API level 34 is larger than maximum we have, returning API level 28 instead.\n"
     ]
    },
    {
     "name": "stdout",
     "output_type": "stream",
     "text": [
      "AndroidManifest.xml exported to C:\\Users\\ASUS\\anaconda3\\wearable-standard-app\\apk-standalone\\app.groupcal.www-AndroidManifest.xml\n",
      "APK Filename:  C:\\Users\\ASUS\\anaconda3\\wearable-standard-app\\apk-standalone\\app.groupcal.www.apk\n",
      "AndroidManifest.xml exported to C:\\Users\\ASUS\\anaconda3\\wearable-standard-app\\apk-standalone\\app.groupcal.www-AndroidManifest.xml\n",
      "APK Filename:  C:\\Users\\ASUS\\anaconda3\\wearable-standard-app\\apk-standalone\\app.groupcal.www.apk\n"
     ]
    },
    {
     "name": "stderr",
     "output_type": "stream",
     "text": [
      "Requested API level 34 is larger than maximum we have, returning API level 28 instead.\n",
      "Requested API level 33 is larger than maximum we have, returning API level 28 instead.\n"
     ]
    },
    {
     "name": "stdout",
     "output_type": "stream",
     "text": [
      "AndroidManifest.xml exported to C:\\Users\\ASUS\\anaconda3\\wearable-standard-app\\apk-standalone\\app.groupcal.www-AndroidManifest.xml\n",
      "APK Filename:  C:\\Users\\ASUS\\anaconda3\\wearable-standard-app\\apk-standalone\\app.groupcal.www.apk\n",
      "AndroidManifest.xml exported to C:\\Users\\ASUS\\anaconda3\\wearable-standard-app\\apk-standalone\\app.groupcal.www-AndroidManifest.xml\n",
      "APK Filename:  C:\\Users\\ASUS\\anaconda3\\wearable-standard-app\\apk-standalone\\app.groupcal.www.apk\n"
     ]
    },
    {
     "name": "stderr",
     "output_type": "stream",
     "text": [
      "Requested API level 34 is larger than maximum we have, returning API level 28 instead.\n",
      "Requested API level 33 is larger than maximum we have, returning API level 28 instead.\n",
      "Requested API level 34 is larger than maximum we have, returning API level 28 instead.\n",
      "Requested API level 31 is larger than maximum we have, returning API level 28 instead.\n"
     ]
    },
    {
     "name": "stdout",
     "output_type": "stream",
     "text": [
      "AndroidManifest.xml exported to C:\\Users\\ASUS\\anaconda3\\wearable-standard-app\\apk-standalone\\app.groupcal.www-AndroidManifest.xml\n",
      "APK Filename:  C:\\Users\\ASUS\\anaconda3\\wearable-standard-app\\apk-standalone\\app.groupcal.www.apk\n",
      "AndroidManifest.xml exported to C:\\Users\\ASUS\\anaconda3\\wearable-standard-app\\apk-standalone\\app.groupcal.www-AndroidManifest.xml\n",
      "APK Filename:  C:\\Users\\ASUS\\anaconda3\\wearable-standard-app\\apk-standalone\\app.groupcal.www.apk\n",
      "AndroidManifest.xml exported to C:\\Users\\ASUS\\anaconda3\\wearable-standard-app\\apk-standalone\\app.groupcal.www-AndroidManifest.xml\n",
      "APK Filename:  C:\\Users\\ASUS\\anaconda3\\wearable-standard-app\\apk-standalone\\app.groupcal.www.apk\n",
      "AndroidManifest.xml exported to C:\\Users\\ASUS\\anaconda3\\wearable-standard-app\\apk-standalone\\app.groupcal.www-AndroidManifest.xml\n",
      "APK Filename:  C:\\Users\\ASUS\\anaconda3\\wearable-standard-app\\apk-standalone\\app.groupcal.www.apk\n"
     ]
    },
    {
     "name": "stderr",
     "output_type": "stream",
     "text": [
      "Requested API level 34 is larger than maximum we have, returning API level 28 instead.\n",
      "Requested API level 34 is larger than maximum we have, returning API level 28 instead.\n",
      "Requested API level 33 is larger than maximum we have, returning API level 28 instead.\n"
     ]
    },
    {
     "name": "stdout",
     "output_type": "stream",
     "text": [
      "AndroidManifest.xml exported to C:\\Users\\ASUS\\anaconda3\\wearable-standard-app\\apk-standalone\\app.groupcal.www-AndroidManifest.xml\n",
      "APK Filename:  C:\\Users\\ASUS\\anaconda3\\wearable-standard-app\\apk-standalone\\app.groupcal.www.apk\n",
      "AndroidManifest.xml exported to C:\\Users\\ASUS\\anaconda3\\wearable-standard-app\\apk-standalone\\app.groupcal.www-AndroidManifest.xml\n",
      "APK Filename:  C:\\Users\\ASUS\\anaconda3\\wearable-standard-app\\apk-standalone\\app.groupcal.www.apk\n",
      "AndroidManifest.xml exported to C:\\Users\\ASUS\\anaconda3\\wearable-standard-app\\apk-standalone\\app.groupcal.www-AndroidManifest.xml\n",
      "APK Filename:  C:\\Users\\ASUS\\anaconda3\\wearable-standard-app\\apk-standalone\\app.groupcal.www.apk\n"
     ]
    },
    {
     "name": "stderr",
     "output_type": "stream",
     "text": [
      "Requested API level 34 is larger than maximum we have, returning API level 28 instead.\n",
      "Requested API level 34 is larger than maximum we have, returning API level 28 instead.\n",
      "Requested API level 34 is larger than maximum we have, returning API level 28 instead.\n"
     ]
    },
    {
     "name": "stdout",
     "output_type": "stream",
     "text": [
      "AndroidManifest.xml exported to C:\\Users\\ASUS\\anaconda3\\wearable-standard-app\\apk-standalone\\app.groupcal.www-AndroidManifest.xml\n",
      "APK Filename:  C:\\Users\\ASUS\\anaconda3\\wearable-standard-app\\apk-standalone\\app.groupcal.www.apk\n",
      "AndroidManifest.xml exported to C:\\Users\\ASUS\\anaconda3\\wearable-standard-app\\apk-standalone\\app.groupcal.www-AndroidManifest.xml\n",
      "APK Filename:  C:\\Users\\ASUS\\anaconda3\\wearable-standard-app\\apk-standalone\\app.groupcal.www.apk\n",
      "AndroidManifest.xml exported to C:\\Users\\ASUS\\anaconda3\\wearable-standard-app\\apk-standalone\\app.groupcal.www-AndroidManifest.xml\n",
      "APK Filename:  C:\\Users\\ASUS\\anaconda3\\wearable-standard-app\\apk-standalone\\app.groupcal.www.apk\n"
     ]
    },
    {
     "name": "stderr",
     "output_type": "stream",
     "text": [
      "Requested API level 34 is larger than maximum we have, returning API level 28 instead.\n",
      "Requested API level 33 is larger than maximum we have, returning API level 28 instead.\n",
      "Requested API level 29 is larger than maximum we have, returning API level 28 instead.\n",
      "Requested API level 33 is larger than maximum we have, returning API level 28 instead.\n",
      "Requested API level 34 is larger than maximum we have, returning API level 28 instead.\n"
     ]
    },
    {
     "name": "stdout",
     "output_type": "stream",
     "text": [
      "AndroidManifest.xml exported to C:\\Users\\ASUS\\anaconda3\\wearable-standard-app\\apk-standalone\\app.groupcal.www-AndroidManifest.xml\n",
      "APK Filename:  C:\\Users\\ASUS\\anaconda3\\wearable-standard-app\\apk-standalone\\app.groupcal.www.apk\n",
      "AndroidManifest.xml exported to C:\\Users\\ASUS\\anaconda3\\wearable-standard-app\\apk-standalone\\app.groupcal.www-AndroidManifest.xml\n",
      "APK Filename:  C:\\Users\\ASUS\\anaconda3\\wearable-standard-app\\apk-standalone\\app.groupcal.www.apk\n",
      "AndroidManifest.xml exported to C:\\Users\\ASUS\\anaconda3\\wearable-standard-app\\apk-standalone\\app.groupcal.www-AndroidManifest.xml\n",
      "APK Filename:  C:\\Users\\ASUS\\anaconda3\\wearable-standard-app\\apk-standalone\\app.groupcal.www.apk\n",
      "AndroidManifest.xml exported to C:\\Users\\ASUS\\anaconda3\\wearable-standard-app\\apk-standalone\\app.groupcal.www-AndroidManifest.xml\n",
      "APK Filename:  C:\\Users\\ASUS\\anaconda3\\wearable-standard-app\\apk-standalone\\app.groupcal.www.apk\n"
     ]
    },
    {
     "name": "stderr",
     "output_type": "stream",
     "text": [
      "Requested API level 34 is larger than maximum we have, returning API level 28 instead.\n",
      "Requested API level 33 is larger than maximum we have, returning API level 28 instead.\n"
     ]
    },
    {
     "name": "stdout",
     "output_type": "stream",
     "text": [
      "AndroidManifest.xml exported to C:\\Users\\ASUS\\anaconda3\\wearable-standard-app\\apk-standalone\\app.groupcal.www-AndroidManifest.xml\n",
      "APK Filename:  C:\\Users\\ASUS\\anaconda3\\wearable-standard-app\\apk-standalone\\app.groupcal.www.apk\n",
      "AndroidManifest.xml exported to C:\\Users\\ASUS\\anaconda3\\wearable-standard-app\\apk-standalone\\app.groupcal.www-AndroidManifest.xml\n",
      "APK Filename:  C:\\Users\\ASUS\\anaconda3\\wearable-standard-app\\apk-standalone\\app.groupcal.www.apk\n",
      "AndroidManifest.xml exported to C:\\Users\\ASUS\\anaconda3\\wearable-standard-app\\apk-standalone\\app.groupcal.www-AndroidManifest.xml\n",
      "APK Filename:  C:\\Users\\ASUS\\anaconda3\\wearable-standard-app\\apk-standalone\\app.groupcal.www.apk\n"
     ]
    },
    {
     "name": "stderr",
     "output_type": "stream",
     "text": [
      "Requested API level 34 is larger than maximum we have, returning API level 28 instead.\n"
     ]
    },
    {
     "name": "stdout",
     "output_type": "stream",
     "text": [
      "AndroidManifest.xml exported to C:\\Users\\ASUS\\anaconda3\\wearable-standard-app\\apk-standalone\\app.groupcal.www-AndroidManifest.xml\n"
     ]
    }
   ],
   "source": [
    "for i in range(len(all_filenames)):\n",
    "    file_path = all_filenames[i]\n",
    "    print(\"APK Filename: \",apkfile_name)\n",
    "    write_log(extract_manifest_log, apkfile_name)\n",
    "    try:\n",
    "        # 1. Export Manifest.xml file\n",
    "        exportManifestFile(file_path,manifest_directory)\n",
    "        # 2. Update CSV file\n",
    "        write_log(extract_manifest_log, \"FOUND manifest.xml \")\n",
    "    except:\n",
    "        print(\"File not found\")\n",
    "        write_log(extract_manifest_log, \"NOT FOUND manifest.xml \")\n",
    "#     break"
   ]
  }
 ],
 "metadata": {
  "kernelspec": {
   "display_name": "Python 3 (ipykernel)",
   "language": "python",
   "name": "python3"
  },
  "language_info": {
   "codemirror_mode": {
    "name": "ipython",
    "version": 3
   },
   "file_extension": ".py",
   "mimetype": "text/x-python",
   "name": "python",
   "nbconvert_exporter": "python",
   "pygments_lexer": "ipython3",
   "version": "3.9.13"
  }
 },
 "nbformat": 4,
 "nbformat_minor": 5
}
