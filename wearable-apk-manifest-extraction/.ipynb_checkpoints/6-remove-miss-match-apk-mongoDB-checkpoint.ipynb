{
 "cells": [
  {
   "cell_type": "code",
   "execution_count": 9,
   "id": "613eeff5",
   "metadata": {},
   "outputs": [],
   "source": [
    "import json\n",
    "import os\n",
    "import shutil\n",
    "from pymongo import MongoClient"
   ]
  },
  {
   "cell_type": "code",
   "execution_count": 10,
   "id": "1666fad2",
   "metadata": {},
   "outputs": [
    {
     "name": "stdout",
     "output_type": "stream",
     "text": [
      "Total files: 154\n",
      "['app.biket.speedo.apk', 'app.dailysteps.stepcounter.pedometer.apk', 'asn.ark.miband5.apk', 'bloodpressuremonitor.bloodpressureapp.bpmonitor.apk', 'by.august8.wotfaces.wotfaces.apk', 'calm.sleep.headspace.relaxingsounds.apk', 'cat.gencat.mobi.lamevasalut.apk', 'cn.noerdenfit.life.apk', 'com.aldi_project.apk', 'com.bakersplus.mobile.apk', 'com.beaglemap.tranggle.apk', 'com.biscuit.biscuit.apk', 'com.bloodpressure.pro.apk', 'com.bm.android.thermometer.apk', 'com.cashwalk.cashwalk.apk', 'com.cdac.aiimsjodhpur.apk', 'com.cdac.aiimsraipur.apk', 'com.cheaptickets.apk', 'com.cigna.proactiv.apk', 'com.covertbagel.perpetua.apk', 'com.cqkct.fundo.health.apk', 'com.crossfit.games.apk', 'com.dexcom.g6.region1.mmol.apk', 'com.dexcom.g7.apk', 'com.diaohs.face000.apk', 'com.dwfitnessfirstcore.core.apk', 'com.ecw.healow.apk', 'com.esmoke.cupad.apk', 'com.facebook.katana.apk', 'com.facebook.orca.apk', 'com.fastsoft.game2048w.apk', 'com.fivemobile.thescore.apk', 'com.fredmeyer.mobile.apk', 'com.frysfood.mobile.apk', 'com.garmin.android.apps.connectmobile.apk', 'com.garmin.android.apps.explore.apk', 'com.gradehealthchain.log.apk', 'com.hcom.android.apk', 'com.healthifyme.basic.apk', 'com.hihonor.health.apk', 'com.hnblife.refreshfield.android.apk', 'com.homemedics.app.apk', 'com.huami.watch.hmwatchmanager.apk', 'com.icemobile.albertheijn.apk', 'com.ideawork.icrunch.apk', 'com.iefimenko.mmpitrial.apk', 'com.infinitygames.connection.apk', 'com.infinitygames.loopenergy.apk', 'com.infinitygames.shapes.apk', 'com.infraware.office.link.apk', 'com.instagram.android.apk', 'com.itmedicus.mDoctorPhysician.apk', 'com.jaga.ibraceletplus.smartwristband3.apk', 'com.jappetto.hitmiss.wear.apk', 'com.jeremysteckling.facerrel.apk', 'com.kct.fundo.btnotification.apk', 'com.kct.fundowear.btnotification.apk', 'com.kic.kicapp.apk', 'com.kingsoopers.mobile.apk', 'com.kroger.mobile.apk', 'com.listeningdevice.hearingaid.apk', 'com.madlemonlab.sportup.apk', 'com.mi.health.apk', 'com.microfit.end.apk', 'com.microsoft.office.outlook.apk', 'com.mobisystems.editor.office_with_reg.apk', 'com.mobisystems.office.apk', 'com.mokaal.watch.apk', 'com.mrs.simpledark_watchface_digital.apk', 'com.msgtong.matong.apk', 'com.myfitsociety.apk', 'com.mysmarthealth.siaci.apk', 'com.netpulse.mobile.thegymgroup.apk', 'com.ninefolders.hd3.apk', 'com.nomergy.snapjourney.lift.apk', 'com.orbitz.apk', 'com.pmi.tangerang.apk', 'com.qfc.mobile.apk', 'com.reveri.reverihealth.apk', 'com.rubylabs.able.apk', 'com.runnea.academy.apk', 'com.sinopac.benefits.apk', 'com.smithsfoodanddrug.mobile.apk', 'com.solh.app.apk', 'com.spotmefit.spotme.apk', 'com.stationdm.bluelink.apk', 'com.swallaby.walkon.apk', 'com.szkct.funrun.main.apk', 'com.tencent.mm.apk', 'com.tracerofficial.apk', 'com.tru.connect.apk', 'com.truerowing.hydrowcompanion.apk', 'com.vfn.yogafreaks.apk', 'com.vida.healthcoach.apk', 'com.vivint.vivintsky.apk', 'com.vkontakte.android.apk', 'com.wahoofitness.boltcompanion.apk', 'com.weightwatchers.mobile.apk', 'com.wsl.noom.apk', 'com.xiaomi.hm.health.apk', 'com.xiaomi.wearable.apk', 'com.xtheon.teamfit.apk', 'com.yc.dayband.apk', 'com.yc.flagfit2.apk', 'com.yc.gloryfit.apk', 'com.yc.yourfitness.apk', 'com.ydl.fitv.apk', 'com.ydl.thorgym.apk', 'com.yourdeadlift.fitness5.apk', 'de.dak.dak_app.apk', 'de.hek.serviceapp.apk', 'de.tk.tkapp.apk', 'de.uschonha.roman.watchface.apk', 'de.uschonha.tinylaser.apk', 'fit.krew.android.apk', 'fitness.online.app.apk', 'hu.tiborsosdevs.mibandage.apk', 'io.balso.apk', 'jp.kirei_r.sp.diary_free.apk', 'jp.naver.line.android.apk', 'kr.co.apptube.hitai2.apk', 'kr.co.mamap.aos.apk', 'kr.co.wetrain.woondoc.apk', 'kr.go.foodsafetykorea.minfo.apk', 'me.grishka.io16watchface.apk', 'me.rtrt.app.mrr.apk', 'me.rtrt.app2.apk', 'me.runningcoach.apk', 'melstudio.breathing.prana.meditate.apk', 'melstudio.mback.apk', 'melstudio.mfat.apk', 'melstudio.mlplank.apk', 'melstudio.mneck.apk', 'melstudio.mpilates.apk', 'melstudio.mpress.apk', 'melstudio.mpresssure.apk', 'melstudio.mstretch.apk', 'melstudio.msugar.apk', 'melstudio.myogabegin.apk', 'melstudio.myogafat.apk', 'net.waynepiekarski.screeninfo.apk', 'nic.goi.aarogyasetu.apk', 'nl.omroepbrabant.android.apk', 'no.nrk.yr.apk', 'omegacentauri.mobi.simplestopwatch.apk', 'org.amref.mjali.mjaliv3.apk', 'org.iplatform.android.phone2.apk', 'org.kp.m.apk', 'ramidebab.ememms.aquapixel.apk', 'ride.it.apk', 'ru.binaryblitz.fitmost.apk', 'ru.mail.mailapp.apk', 'se.volvo.vcc.apk', 'tr.gov.saglik.asila.apk']\n"
     ]
    }
   ],
   "source": [
    "def get_all_file_names(directory):\n",
    "    \"\"\"\n",
    "    Get all file names in the specified directory.\n",
    "    \n",
    "    :param directory: Path to the directory.\n",
    "    :return: A list of file names.\n",
    "    \"\"\"\n",
    "    try:\n",
    "        # Check if the directory exists\n",
    "        if not os.path.exists(directory):\n",
    "            print(f\"Error: Directory {directory} does not exist.\")\n",
    "            return []\n",
    "        \n",
    "        # Get all file names\n",
    "        file_names = [f for f in os.listdir(directory) if os.path.isfile(os.path.join(directory, f))]\n",
    "        return file_names\n",
    "    except Exception as e:\n",
    "        print(f\"An error occurred: {e}\")\n",
    "        return []\n",
    "\n",
    "# Example usage\n",
    "directory_path = r\"E:\\wearable-miss-matched\"\n",
    "file_names = get_all_file_names(directory_path)\n",
    "\n",
    "print(f\"Total files: {len(file_names)}\")\n",
    "print(file_names)"
   ]
  },
  {
   "cell_type": "code",
   "execution_count": 11,
   "id": "24a8fe90",
   "metadata": {},
   "outputs": [],
   "source": [
    "def connect_mongodb(uri,db_name, collection_name):\n",
    "    # Connect to MongoDB \n",
    "    client = MongoClient(uri)\n",
    "    \n",
    "    # Select the database and collection\n",
    "    db = client[db_name]\n",
    "    collection = db[collection_name]\n",
    "    \n",
    "    return collection"
   ]
  },
  {
   "cell_type": "code",
   "execution_count": 12,
   "id": "0fb472f2",
   "metadata": {},
   "outputs": [],
   "source": [
    "def delete_document_by_id(collection, document_id):\n",
    "    try:\n",
    "        # Delete the document\n",
    "        result = collection.delete_one({\"_id\": document_id})\n",
    "        \n",
    "        if result.deleted_count > 0:\n",
    "            print(f\"Document with _id '{document_id}' deleted successfully.\")\n",
    "        else:\n",
    "            print(f\"No document found with _id '{document_id}'.\")\n",
    "        \n",
    "        return {\"deleted_count\": result.deleted_count}\n",
    "    except Exception as e:\n",
    "        print(f\"An error occurred: {e}\")\n",
    "        return {\"error\": str(e)}"
   ]
  },
  {
   "cell_type": "code",
   "execution_count": 13,
   "id": "2b1fe377",
   "metadata": {},
   "outputs": [],
   "source": [
    "mongoDB_uri = 'mongodb://localhost:27017'\n",
    "mongoDB_database = 'wearable-project' \n",
    "mongoDB_collection = 'wearable-app'"
   ]
  },
  {
   "cell_type": "code",
   "execution_count": 14,
   "id": "c0437cff",
   "metadata": {},
   "outputs": [
    {
     "name": "stdout",
     "output_type": "stream",
     "text": [
      "Collection(Database(MongoClient(host=['localhost:27017'], document_class=dict, tz_aware=False, connect=True), 'wearable-project'), 'wearable-app')\n",
      "app.biket.speedo\n"
     ]
    }
   ],
   "source": [
    "# Connect to the MongoDB collection\n",
    "collection = connect_mongodb(mongoDB_uri,mongoDB_database,mongoDB_collection)\n",
    "print(collection)\n",
    "for i in range(len(file_names)):\n",
    "    app_id = os.path.splitext(file_names[i])[0]\n",
    "    print(\"----------------------------------Delete \"+app_id+\"----------------------------------\")\n",
    "    delete_document_by_id(collection, app_id)"
   ]
  }
 ],
 "metadata": {
  "kernelspec": {
   "display_name": "Python 3 (ipykernel)",
   "language": "python",
   "name": "python3"
  },
  "language_info": {
   "codemirror_mode": {
    "name": "ipython",
    "version": 3
   },
   "file_extension": ".py",
   "mimetype": "text/x-python",
   "name": "python",
   "nbconvert_exporter": "python",
   "pygments_lexer": "ipython3",
   "version": "3.9.13"
  }
 },
 "nbformat": 4,
 "nbformat_minor": 5
}
