{
 "cells": [
  {
   "cell_type": "code",
   "execution_count": 10,
   "id": "d933479b",
   "metadata": {},
   "outputs": [],
   "source": [
    "import xml.etree.ElementTree as ET\n",
    "import pandas as pd\n",
    "import os"
   ]
  },
  {
   "cell_type": "code",
   "execution_count": 11,
   "id": "803124c7",
   "metadata": {},
   "outputs": [],
   "source": [
    "def extract_permission_values(xml_file):\n",
    "    # Check if the file exists\n",
    "    if not os.path.exists(xml_file):\n",
    "        print(f\"Error: File '{xml_file}' does not exist.\")\n",
    "        return [\"Not Found\"]\n",
    "\n",
    "    # Parse the XML file\n",
    "    try:\n",
    "        tree = ET.parse(xml_file)\n",
    "        root = tree.getroot()\n",
    "    except ET.ParseError:\n",
    "        print(f\"Error: Unable to parse XML file '{xml_file}'\")\n",
    "        return []\n",
    "\n",
    "    # Namespace used in the XML (for ns0:name)\n",
    "    namespace = {'ns0': 'http://schemas.android.com/apk/res/android'}\n",
    "\n",
    "    # Extract permissions for both cases: ns0:name and name\n",
    "    permissions = []\n",
    "    \n",
    "    # Case 1: Extract ns0:name attributes (namespaced)\n",
    "    permissions += [perm.attrib['{http://schemas.android.com/apk/res/android}name'] \n",
    "                    for perm in root.findall('uses-permission', namespace) \n",
    "                    if '{http://schemas.android.com/apk/res/android}name' in perm.attrib]\n",
    "    \n",
    "    # Case 2: Extract name attributes (non-namespaced)\n",
    "    permissions += [perm.attrib['name'] \n",
    "                    for perm in root.findall('uses-permission') \n",
    "                    if 'name' in perm.attrib]\n",
    "\n",
    "    return permissions\n",
    "def read_csv_and_filter(file_path):\n",
    "    # Read the CSV file into a pandas DataFrame\n",
    "    df = pd.read_csv(file_path)\n",
    "\n",
    "    # Filter rows where the 'manifest' column has a NaN value\n",
    "    filtered_df = df[df['manifest_permission'].isna()]\n",
    "\n",
    "    # Extract the 'apkfile_name' column from the filtered DataFrame\n",
    "    apkfile_names = filtered_df['apkfile_name_new'].tolist()\n",
    "    pkg_names = filtered_df['pkg_name'].tolist()\n",
    "    return apkfile_names, pkg_names\n",
    "def array_to_string(array):\n",
    "    return '\\n'.join(array)\n",
    "# Funtion update CSV data\n",
    "# def update_csv_column(csv_path, condition_column, condition_value, update_column, new_value):\n",
    "#     # Read the CSV file into a DataFrame\n",
    "#     df = pd.read_csv(csv_path)\n",
    "    \n",
    "#     # Ensure the update_column is of type object (can hold strings)\n",
    "#     df[update_column] = df[update_column].astype(object)\n",
    "\n",
    "#     # Update the specified column based on the condition\n",
    "#     df.loc[df[condition_column] == condition_value, update_column] = str(new_value)\n",
    "\n",
    "#     # Write the updated DataFrame back to the CSV file\n",
    "#     df.to_csv(csv_path, index=False)\n",
    "#     print(f\"CSV updated at {csv_path}\")\n",
    "def update_csv_column(csv_path, condition_column, condition_value, update_column, new_value):\n",
    "    # Read the CSV file into a DataFrame\n",
    "    df = pd.read_csv(csv_path)\n",
    "    \n",
    "    # Ensure the update_column is of type object (can hold strings)\n",
    "    df[update_column] = df[update_column].astype(object)\n",
    "\n",
    "    # Print the matching rows (for debugging purposes)\n",
    "    print(f\"Checking for rows where {condition_column} == {condition_value}\")\n",
    "    matching_rows = df.loc[df[condition_column] == condition_value]\n",
    "    print(f\"Found {len(matching_rows)} matching rows\")\n",
    "\n",
    "    # Update the specified column based on the condition\n",
    "    if len(matching_rows) > 0:\n",
    "        df.loc[df[condition_column] == condition_value, update_column] = str(new_value)\n",
    "        print(f\"Updating {update_column} for {condition_value} with {new_value}\")\n",
    "    else:\n",
    "        print(f\"No matching rows found for {condition_value} in {condition_column}\")\n",
    "    \n",
    "    # Write the updated DataFrame back to the CSV file\n",
    "    df.to_csv(csv_path, index=False)\n",
    "    print(f\"CSV updated at {csv_path}\")"
   ]
  },
  {
   "cell_type": "code",
   "execution_count": 12,
   "id": "c2c4e797",
   "metadata": {},
   "outputs": [],
   "source": [
    "# 1. Read CSV data file\n",
    "# csv_path = \"C:\\\\Users\\\\ASUS\\\\anaconda3\\\\wearable-apk-manifest\\\\combine_filtered_cleaned.csv\"\n",
    "# apk_path = \"C:\\\\Users\\\\ASUS\\\\anaconda3\\\\wearable-standard-app\\\\apk\"\n",
    "# xml_directory = \".\\\\manifest-wearable\"\n",
    "\n",
    "# stand-alone\n",
    "csv_path = \"C:\\\\Users\\\\ASUS\\\\anaconda3\\\\wearable-apk-manifest\\\\apk-wearable-standalone.csv\"\n",
    "#apk_path = \"C:\\\\Users\\\\ASUS\\\\anaconda3\\\\wearable-standard-app\\\\apk\"\n",
    "xml_directory = r\"C:\\Users\\ASUS\\anaconda3\\wearable-apk-manifest\\manifest-wearable-standalone\""
   ]
  },
  {
   "cell_type": "code",
   "execution_count": 13,
   "id": "ff99dcda",
   "metadata": {},
   "outputs": [
    {
     "name": "stdout",
     "output_type": "stream",
     "text": [
      "['app.groupcal.www', 'apps.r.compass', 'ch.publisheria.bring', 'com.albuquerquedesign.adanalog013', 'com.anghami', 'com.audible.application', 'com.c25k', 'com.cardiogram.v1', 'com.centr.app', 'com.codverter.wearflashlight', 'com.contorra.golfpad', 'com.customsolutions.android.alexa', 'com.dungelin.heartrate', 'com.exovoid.weather.app', 'com.fish4fun.mycards', 'com.fitbod.fitbod', 'com.fitiv.fitivapplication', 'com.fiton.android', 'com.flightradar24free', 'com.fourtechnologies.mynetdiary.ad', 'com.fsoydan.howistheweather', 'com.funnmedia.waterminder', 'com.furyapps.scoreswidget', 'com.GD.Minimal', 'com.golfbuddy.smartcaddie', 'com.google.android.apps.maps', 'com.google.android.apps.youtube.music', 'com.google.android.contacts', 'com.google.android.deskclock', 'com.google.android.keep', 'com.grint.thegrint.pro', 'com.hrd.iam', 'com.hrd.motivation', 'com.imperon.android.gymapp', 'com.ingravity.woo', 'com.jee.calc', 'com.JiaRen.LCDsimple', 'com.juventus.app.android', 'com.krisdb.wearcasts', 'com.lemonsystems.cipadidas', 'com.luxsank.analogclassic', 'com.mobilefootie.wc2010', 'com.mysticmobileapps.gps.area.calculator', 'com.mysticmobileapps.gps.location', 'com.newreading.goodfm', 'com.northcube.sleepcycle', 'com.northpark.drinkwater', 'com.padelem.padelem', 'com.recreative.recreative01', 'com.rideonewheel.onewheel', 'com.shazam.android', 'com.shotzoom.golfshot2', 'com.skimble.workouts', 'com.soundcloud.android', 'com.spotify.music', 'com.todoist', 'com.vpar.android', 'com.watchfacedesigns.Vanish', 'com.watchfacestudio.minimalblack1', 'com.wikiloc.wikilocandroid', 'com.windyty.android', 'de.komoot.android', 'de.michelinside.glucodatahandler', 'grit.storytel.app', 'me.twentyfour.www', 'nl.slisky.stopwatch', 'qubin.de.wearmedia', 'se.perigee.android.seven', 'secureauth.android.token', 'time.flies.nebula', 'todolist.scheduleplanner.dailyplanner.todo.reminders', 'walking.tracker.app.pedometer', 'xyz.klinker.messenger']\n",
      "['app.groupcal.www', 'apps.r.compass', 'ch.publisheria.bring', 'com.albuquerquedesign.adanalog013', 'com.anghami', 'com.audible.application', 'com.c25k', 'com.cardiogram.v1', 'com.centr.app', 'com.codverter.wearflashlight', 'com.contorra.golfpad', 'com.customsolutions.android.alexa', 'com.dungelin.heartrate', 'com.exovoid.weather.app', 'com.fish4fun.mycards', 'com.fitbod.fitbod', 'com.fitiv.fitivapplication', 'com.fiton.android', 'com.flightradar24free', 'com.fourtechnologies.mynetdiary.ad', 'com.fsoydan.howistheweather', 'com.funnmedia.waterminder', 'com.furyapps.scoreswidget', 'com.GD.Minimal', 'com.golfbuddy.smartcaddie', 'com.google.android.apps.maps', 'com.google.android.apps.youtube.music', 'com.google.android.contacts', 'com.google.android.deskclock', 'com.google.android.keep', 'com.grint.thegrint.pro', 'com.hrd.iam', 'com.hrd.motivation', 'com.imperon.android.gymapp', 'com.ingravity.woo', 'com.jee.calc', 'com.JiaRen.LCDsimple', 'com.juventus.app.android', 'com.krisdb.wearcasts', 'com.lemonsystems.cipadidas', 'com.luxsank.analogclassic', 'com.mobilefootie.wc2010', 'com.mysticmobileapps.gps.area.calculator', 'com.mysticmobileapps.gps.location', 'com.newreading.goodfm', 'com.northcube.sleepcycle', 'com.northpark.drinkwater', 'com.padelem.padelem', 'com.recreative.recreative01', 'com.rideonewheel.onewheel', 'com.shazam.android', 'com.shotzoom.golfshot2', 'com.skimble.workouts', 'com.soundcloud.android', 'com.spotify.music', 'com.todoist', 'com.vpar.android', 'com.watchfacedesigns.Vanish', 'com.watchfacestudio.minimalblack1', 'com.wikiloc.wikilocandroid', 'com.windyty.android', 'de.komoot.android', 'de.michelinside.glucodatahandler', 'grit.storytel.app', 'me.twentyfour.www', 'nl.slisky.stopwatch', 'qubin.de.wearmedia', 'se.perigee.android.seven', 'secureauth.android.token', 'time.flies.nebula', 'todolist.scheduleplanner.dailyplanner.todo.reminders', 'walking.tracker.app.pedometer', 'xyz.klinker.messenger']\n"
     ]
    }
   ],
   "source": [
    "# MAIN\n",
    "apk_file_name_arr, pkg_name_arr  = read_csv_and_filter(csv_path)\n",
    "print((apk_file_name_arr))\n",
    "print(pkg_name_arr)"
   ]
  },
  {
   "cell_type": "code",
   "execution_count": 14,
   "id": "d11b7fc8",
   "metadata": {},
   "outputs": [
    {
     "name": "stdout",
     "output_type": "stream",
     "text": [
      "---------------------------- Loop-0 ----------------------------\n",
      "apkfile_name_new: app.groupcal.www\n",
      "pkg_name: app.groupcal.www\n",
      "manifest_path C:\\Users\\ASUS\\anaconda3\\wearable-apk-manifest\\manifest-wearable-standalone\\app.groupcal-AndroidManifest.xml\n",
      "Error: File 'C:\\Users\\ASUS\\anaconda3\\wearable-apk-manifest\\manifest-wearable-standalone\\app.groupcal-AndroidManifest.xml' does not exist.\n",
      "permission_arr ['Not Found']\n",
      "len permission arr 1\n",
      "permission_str Not Found\n",
      "Checking for rows where pkg_name == app.groupcal.www\n",
      "Found 1 matching rows\n",
      "Updating manifest_permission for app.groupcal.www with Not Found\n"
     ]
    },
    {
     "ename": "PermissionError",
     "evalue": "[Errno 13] Permission denied: 'C:\\\\Users\\\\ASUS\\\\anaconda3\\\\wearable-apk-manifest\\\\apk-wearable-standalone.csv'",
     "output_type": "error",
     "traceback": [
      "\u001b[1;31m---------------------------------------------------------------------------\u001b[0m",
      "\u001b[1;31mPermissionError\u001b[0m                           Traceback (most recent call last)",
      "\u001b[1;32m~\\AppData\\Local\\Temp\\ipykernel_32040\\2356381221.py\u001b[0m in \u001b[0;36m<module>\u001b[1;34m\u001b[0m\n\u001b[0;32m     13\u001b[0m         \u001b[0mpermission_str\u001b[0m \u001b[1;33m=\u001b[0m \u001b[0marray_to_string\u001b[0m\u001b[1;33m(\u001b[0m\u001b[0mpermission_arr\u001b[0m\u001b[1;33m)\u001b[0m\u001b[1;33m\u001b[0m\u001b[1;33m\u001b[0m\u001b[0m\n\u001b[0;32m     14\u001b[0m         \u001b[0mprint\u001b[0m\u001b[1;33m(\u001b[0m\u001b[1;34m\"permission_str\"\u001b[0m\u001b[1;33m,\u001b[0m\u001b[0mpermission_str\u001b[0m\u001b[1;33m)\u001b[0m\u001b[1;33m\u001b[0m\u001b[1;33m\u001b[0m\u001b[0m\n\u001b[1;32m---> 15\u001b[1;33m         \u001b[0mupdate_csv_column\u001b[0m\u001b[1;33m(\u001b[0m\u001b[0mcsv_path\u001b[0m\u001b[1;33m,\u001b[0m \u001b[1;34m\"pkg_name\"\u001b[0m\u001b[1;33m,\u001b[0m \u001b[0mpkg_name\u001b[0m\u001b[1;33m,\u001b[0m \u001b[1;34m\"manifest_permission\"\u001b[0m\u001b[1;33m,\u001b[0m \u001b[0mpermission_str\u001b[0m\u001b[1;33m)\u001b[0m\u001b[1;33m\u001b[0m\u001b[1;33m\u001b[0m\u001b[0m\n\u001b[0m\u001b[0;32m     16\u001b[0m     \u001b[1;32melif\u001b[0m \u001b[1;33m(\u001b[0m\u001b[0mlen\u001b[0m\u001b[1;33m(\u001b[0m\u001b[0mpermission_arr\u001b[0m\u001b[1;33m)\u001b[0m\u001b[1;33m>\u001b[0m\u001b[1;36m0\u001b[0m \u001b[1;32mand\u001b[0m \u001b[0mpermission_arr\u001b[0m\u001b[1;33m[\u001b[0m\u001b[1;36m0\u001b[0m\u001b[1;33m]\u001b[0m\u001b[1;33m==\u001b[0m\u001b[1;34m\"Not Found\"\u001b[0m\u001b[1;33m)\u001b[0m\u001b[1;33m:\u001b[0m\u001b[1;33m\u001b[0m\u001b[1;33m\u001b[0m\u001b[0m\n\u001b[0;32m     17\u001b[0m         \u001b[0mprint\u001b[0m\u001b[1;33m(\u001b[0m\u001b[1;34m\"Manifest file not found\"\u001b[0m\u001b[1;33m)\u001b[0m\u001b[1;33m\u001b[0m\u001b[1;33m\u001b[0m\u001b[0m\n",
      "\u001b[1;32m~\\AppData\\Local\\Temp\\ipykernel_32040\\3171368495.py\u001b[0m in \u001b[0;36mupdate_csv_column\u001b[1;34m(csv_path, condition_column, condition_value, update_column, new_value)\u001b[0m\n\u001b[0;32m     77\u001b[0m \u001b[1;33m\u001b[0m\u001b[0m\n\u001b[0;32m     78\u001b[0m     \u001b[1;31m# Write the updated DataFrame back to the CSV file\u001b[0m\u001b[1;33m\u001b[0m\u001b[1;33m\u001b[0m\u001b[0m\n\u001b[1;32m---> 79\u001b[1;33m     \u001b[0mdf\u001b[0m\u001b[1;33m.\u001b[0m\u001b[0mto_csv\u001b[0m\u001b[1;33m(\u001b[0m\u001b[0mcsv_path\u001b[0m\u001b[1;33m,\u001b[0m \u001b[0mindex\u001b[0m\u001b[1;33m=\u001b[0m\u001b[1;32mFalse\u001b[0m\u001b[1;33m)\u001b[0m\u001b[1;33m\u001b[0m\u001b[1;33m\u001b[0m\u001b[0m\n\u001b[0m\u001b[0;32m     80\u001b[0m     \u001b[0mprint\u001b[0m\u001b[1;33m(\u001b[0m\u001b[1;34mf\"CSV updated at {csv_path}\"\u001b[0m\u001b[1;33m)\u001b[0m\u001b[1;33m\u001b[0m\u001b[1;33m\u001b[0m\u001b[0m\n",
      "\u001b[1;32m~\\anaconda3\\lib\\site-packages\\pandas\\util\\_decorators.py\u001b[0m in \u001b[0;36mwrapper\u001b[1;34m(*args, **kwargs)\u001b[0m\n\u001b[0;32m    209\u001b[0m                 \u001b[1;32melse\u001b[0m\u001b[1;33m:\u001b[0m\u001b[1;33m\u001b[0m\u001b[1;33m\u001b[0m\u001b[0m\n\u001b[0;32m    210\u001b[0m                     \u001b[0mkwargs\u001b[0m\u001b[1;33m[\u001b[0m\u001b[0mnew_arg_name\u001b[0m\u001b[1;33m]\u001b[0m \u001b[1;33m=\u001b[0m \u001b[0mnew_arg_value\u001b[0m\u001b[1;33m\u001b[0m\u001b[1;33m\u001b[0m\u001b[0m\n\u001b[1;32m--> 211\u001b[1;33m             \u001b[1;32mreturn\u001b[0m \u001b[0mfunc\u001b[0m\u001b[1;33m(\u001b[0m\u001b[1;33m*\u001b[0m\u001b[0margs\u001b[0m\u001b[1;33m,\u001b[0m \u001b[1;33m**\u001b[0m\u001b[0mkwargs\u001b[0m\u001b[1;33m)\u001b[0m\u001b[1;33m\u001b[0m\u001b[1;33m\u001b[0m\u001b[0m\n\u001b[0m\u001b[0;32m    212\u001b[0m \u001b[1;33m\u001b[0m\u001b[0m\n\u001b[0;32m    213\u001b[0m         \u001b[1;32mreturn\u001b[0m \u001b[0mcast\u001b[0m\u001b[1;33m(\u001b[0m\u001b[0mF\u001b[0m\u001b[1;33m,\u001b[0m \u001b[0mwrapper\u001b[0m\u001b[1;33m)\u001b[0m\u001b[1;33m\u001b[0m\u001b[1;33m\u001b[0m\u001b[0m\n",
      "\u001b[1;32m~\\anaconda3\\lib\\site-packages\\pandas\\core\\generic.py\u001b[0m in \u001b[0;36mto_csv\u001b[1;34m(self, path_or_buf, sep, na_rep, float_format, columns, header, index, index_label, mode, encoding, compression, quoting, quotechar, lineterminator, chunksize, date_format, doublequote, escapechar, decimal, errors, storage_options)\u001b[0m\n\u001b[0;32m   3718\u001b[0m         )\n\u001b[0;32m   3719\u001b[0m \u001b[1;33m\u001b[0m\u001b[0m\n\u001b[1;32m-> 3720\u001b[1;33m         return DataFrameRenderer(formatter).to_csv(\n\u001b[0m\u001b[0;32m   3721\u001b[0m             \u001b[0mpath_or_buf\u001b[0m\u001b[1;33m,\u001b[0m\u001b[1;33m\u001b[0m\u001b[1;33m\u001b[0m\u001b[0m\n\u001b[0;32m   3722\u001b[0m             \u001b[0mlineterminator\u001b[0m\u001b[1;33m=\u001b[0m\u001b[0mlineterminator\u001b[0m\u001b[1;33m,\u001b[0m\u001b[1;33m\u001b[0m\u001b[1;33m\u001b[0m\u001b[0m\n",
      "\u001b[1;32m~\\anaconda3\\lib\\site-packages\\pandas\\util\\_decorators.py\u001b[0m in \u001b[0;36mwrapper\u001b[1;34m(*args, **kwargs)\u001b[0m\n\u001b[0;32m    209\u001b[0m                 \u001b[1;32melse\u001b[0m\u001b[1;33m:\u001b[0m\u001b[1;33m\u001b[0m\u001b[1;33m\u001b[0m\u001b[0m\n\u001b[0;32m    210\u001b[0m                     \u001b[0mkwargs\u001b[0m\u001b[1;33m[\u001b[0m\u001b[0mnew_arg_name\u001b[0m\u001b[1;33m]\u001b[0m \u001b[1;33m=\u001b[0m \u001b[0mnew_arg_value\u001b[0m\u001b[1;33m\u001b[0m\u001b[1;33m\u001b[0m\u001b[0m\n\u001b[1;32m--> 211\u001b[1;33m             \u001b[1;32mreturn\u001b[0m \u001b[0mfunc\u001b[0m\u001b[1;33m(\u001b[0m\u001b[1;33m*\u001b[0m\u001b[0margs\u001b[0m\u001b[1;33m,\u001b[0m \u001b[1;33m**\u001b[0m\u001b[0mkwargs\u001b[0m\u001b[1;33m)\u001b[0m\u001b[1;33m\u001b[0m\u001b[1;33m\u001b[0m\u001b[0m\n\u001b[0m\u001b[0;32m    212\u001b[0m \u001b[1;33m\u001b[0m\u001b[0m\n\u001b[0;32m    213\u001b[0m         \u001b[1;32mreturn\u001b[0m \u001b[0mcast\u001b[0m\u001b[1;33m(\u001b[0m\u001b[0mF\u001b[0m\u001b[1;33m,\u001b[0m \u001b[0mwrapper\u001b[0m\u001b[1;33m)\u001b[0m\u001b[1;33m\u001b[0m\u001b[1;33m\u001b[0m\u001b[0m\n",
      "\u001b[1;32m~\\anaconda3\\lib\\site-packages\\pandas\\io\\formats\\format.py\u001b[0m in \u001b[0;36mto_csv\u001b[1;34m(self, path_or_buf, encoding, sep, columns, index_label, mode, compression, quoting, quotechar, lineterminator, chunksize, date_format, doublequote, escapechar, errors, storage_options)\u001b[0m\n\u001b[0;32m   1187\u001b[0m             \u001b[0mformatter\u001b[0m\u001b[1;33m=\u001b[0m\u001b[0mself\u001b[0m\u001b[1;33m.\u001b[0m\u001b[0mfmt\u001b[0m\u001b[1;33m,\u001b[0m\u001b[1;33m\u001b[0m\u001b[1;33m\u001b[0m\u001b[0m\n\u001b[0;32m   1188\u001b[0m         )\n\u001b[1;32m-> 1189\u001b[1;33m         \u001b[0mcsv_formatter\u001b[0m\u001b[1;33m.\u001b[0m\u001b[0msave\u001b[0m\u001b[1;33m(\u001b[0m\u001b[1;33m)\u001b[0m\u001b[1;33m\u001b[0m\u001b[1;33m\u001b[0m\u001b[0m\n\u001b[0m\u001b[0;32m   1190\u001b[0m \u001b[1;33m\u001b[0m\u001b[0m\n\u001b[0;32m   1191\u001b[0m         \u001b[1;32mif\u001b[0m \u001b[0mcreated_buffer\u001b[0m\u001b[1;33m:\u001b[0m\u001b[1;33m\u001b[0m\u001b[1;33m\u001b[0m\u001b[0m\n",
      "\u001b[1;32m~\\anaconda3\\lib\\site-packages\\pandas\\io\\formats\\csvs.py\u001b[0m in \u001b[0;36msave\u001b[1;34m(self)\u001b[0m\n\u001b[0;32m    239\u001b[0m         \"\"\"\n\u001b[0;32m    240\u001b[0m         \u001b[1;31m# apply compression and byte/text conversion\u001b[0m\u001b[1;33m\u001b[0m\u001b[1;33m\u001b[0m\u001b[0m\n\u001b[1;32m--> 241\u001b[1;33m         with get_handle(\n\u001b[0m\u001b[0;32m    242\u001b[0m             \u001b[0mself\u001b[0m\u001b[1;33m.\u001b[0m\u001b[0mfilepath_or_buffer\u001b[0m\u001b[1;33m,\u001b[0m\u001b[1;33m\u001b[0m\u001b[1;33m\u001b[0m\u001b[0m\n\u001b[0;32m    243\u001b[0m             \u001b[0mself\u001b[0m\u001b[1;33m.\u001b[0m\u001b[0mmode\u001b[0m\u001b[1;33m,\u001b[0m\u001b[1;33m\u001b[0m\u001b[1;33m\u001b[0m\u001b[0m\n",
      "\u001b[1;32m~\\anaconda3\\lib\\site-packages\\pandas\\io\\common.py\u001b[0m in \u001b[0;36mget_handle\u001b[1;34m(path_or_buf, mode, encoding, compression, memory_map, is_text, errors, storage_options)\u001b[0m\n\u001b[0;32m    854\u001b[0m         \u001b[1;32mif\u001b[0m \u001b[0mioargs\u001b[0m\u001b[1;33m.\u001b[0m\u001b[0mencoding\u001b[0m \u001b[1;32mand\u001b[0m \u001b[1;34m\"b\"\u001b[0m \u001b[1;32mnot\u001b[0m \u001b[1;32min\u001b[0m \u001b[0mioargs\u001b[0m\u001b[1;33m.\u001b[0m\u001b[0mmode\u001b[0m\u001b[1;33m:\u001b[0m\u001b[1;33m\u001b[0m\u001b[1;33m\u001b[0m\u001b[0m\n\u001b[0;32m    855\u001b[0m             \u001b[1;31m# Encoding\u001b[0m\u001b[1;33m\u001b[0m\u001b[1;33m\u001b[0m\u001b[0m\n\u001b[1;32m--> 856\u001b[1;33m             handle = open(\n\u001b[0m\u001b[0;32m    857\u001b[0m                 \u001b[0mhandle\u001b[0m\u001b[1;33m,\u001b[0m\u001b[1;33m\u001b[0m\u001b[1;33m\u001b[0m\u001b[0m\n\u001b[0;32m    858\u001b[0m                 \u001b[0mioargs\u001b[0m\u001b[1;33m.\u001b[0m\u001b[0mmode\u001b[0m\u001b[1;33m,\u001b[0m\u001b[1;33m\u001b[0m\u001b[1;33m\u001b[0m\u001b[0m\n",
      "\u001b[1;31mPermissionError\u001b[0m: [Errno 13] Permission denied: 'C:\\\\Users\\\\ASUS\\\\anaconda3\\\\wearable-apk-manifest\\\\apk-wearable-standalone.csv'"
     ]
    }
   ],
   "source": [
    "for i in range(len(apk_file_name_arr)):\n",
    "    print(\"---------------------------- Loop-\"+str(i)+\" ----------------------------\")\n",
    "    apkfile_name_new = apk_file_name_arr[i]\n",
    "    pkg_name = pkg_name_arr[i]\n",
    "    print(\"apkfile_name_new:\",apkfile_name_new)\n",
    "    print(\"pkg_name:\",pkg_name)\n",
    "#     manifest_path = xml_directory+\"\\\\\"+str(os.path.splitext(apkfile_name_new)[0])+\"-AndroidManifest.xml\" \n",
    "    ### For standalone\n",
    "    manifest_path = xml_directory+\"\\\\\"+pkg_name+\"-AndroidManifest.xml\"\n",
    "    print(\"manifest_path\",manifest_path)\n",
    "    permission_arr = extract_permission_values(manifest_path)\n",
    "    print(\"permission_arr\",permission_arr)\n",
    "    print(\"len permission arr\",len(permission_arr))\n",
    "    if (len(permission_arr)>0 and permission_arr[0]!=\"Manifest Not Found\"):\n",
    "        permission_str = array_to_string(permission_arr)\n",
    "        print(\"permission_str\",permission_str)\n",
    "        update_csv_column(csv_path, \"pkg_name\", pkg_name, \"manifest_permission\", permission_str)\n",
    "    elif (len(permission_arr)>0 and permission_arr[0]==\"Not Found\"):\n",
    "        print(\"Manifest file not found\")\n",
    "        update_csv_column(csv_path, \"pkg_name\", pkg_name, \"manifest_permission\", \"Not Found\")\n",
    "    elif (len(permission_arr)==0):\n",
    "        print(\"No have permission\")\n",
    "        update_csv_column(csv_path, \"pkg_name\", pkg_name, \"manifest_permission\", \"No Permission\")\n",
    "    else:\n",
    "        print(\"Unknow\")\n",
    "    #break"
   ]
  }
 ],
 "metadata": {
  "kernelspec": {
   "display_name": "Python 3 (ipykernel)",
   "language": "python",
   "name": "python3"
  },
  "language_info": {
   "codemirror_mode": {
    "name": "ipython",
    "version": 3
   },
   "file_extension": ".py",
   "mimetype": "text/x-python",
   "name": "python",
   "nbconvert_exporter": "python",
   "pygments_lexer": "ipython3",
   "version": "3.9.13"
  }
 },
 "nbformat": 4,
 "nbformat_minor": 5
}
