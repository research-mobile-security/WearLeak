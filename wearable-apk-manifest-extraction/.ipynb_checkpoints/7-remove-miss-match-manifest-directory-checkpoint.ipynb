{
 "cells": [
  {
   "cell_type": "code",
   "execution_count": 65,
   "id": "5fcfdc01",
   "metadata": {},
   "outputs": [],
   "source": [
    "import json\n",
    "import os\n",
    "import shutil\n",
    "from pymongo import MongoClient"
   ]
  },
  {
   "cell_type": "code",
   "execution_count": 66,
   "id": "81286676",
   "metadata": {},
   "outputs": [],
   "source": [
    "def delete_file(file_name, directory):\n",
    "    try:\n",
    "        # Construct the full file path\n",
    "        file_path = os.path.join(directory, file_name)\n",
    "        \n",
    "        # Check if the file exists\n",
    "        if os.path.isfile(file_path):\n",
    "            # Delete the file\n",
    "            os.remove(file_path)\n",
    "            return f\"File '{file_name}' deleted successfully.\"\n",
    "        else:\n",
    "            return f\"File '{file_name}' does not exist in the directory '{directory}'.\"\n",
    "    except Exception as e:\n",
    "        return f\"An error occurred while deleting the file: {e}\""
   ]
  },
  {
   "cell_type": "code",
   "execution_count": 67,
   "id": "035f55f9",
   "metadata": {},
   "outputs": [],
   "source": [
    "def connect_mongodb(uri,db_name, collection_name):\n",
    "    # Connect to MongoDB \n",
    "    client = MongoClient(uri)\n",
    "    \n",
    "    # Select the database and collection\n",
    "    db = client[db_name]\n",
    "    collection = db[collection_name]\n",
    "    \n",
    "    return collection"
   ]
  },
  {
   "cell_type": "code",
   "execution_count": 68,
   "id": "5bc09121",
   "metadata": {},
   "outputs": [
    {
     "name": "stdout",
     "output_type": "stream",
     "text": [
      "Collection(Database(MongoClient(host=['localhost:27017'], document_class=dict, tz_aware=False, connect=True), 'wearable-project'), 'wearable-app')\n"
     ]
    }
   ],
   "source": [
    "manifest_directory = r\"C:\\Users\\ASUS\\anaconda3\\wearable-apk-manifest\\manifest-wearable\"\n",
    "mongoDB_uri = 'mongodb://localhost:27017'\n",
    "mongoDB_database = 'wearable-project' \n",
    "mongoDB_collection = 'wearable-app'\n",
    "collection = connect_mongodb(mongoDB_uri,mongoDB_database,mongoDB_collection)\n",
    "print(collection)"
   ]
  },
  {
   "cell_type": "code",
   "execution_count": 69,
   "id": "7bd75c41",
   "metadata": {},
   "outputs": [],
   "source": [
    "def get_apkfile_names_as_arrays(uri, db_name, collection_name):\n",
    "    try:\n",
    "        # Connect to the MongoDB collection\n",
    "        client = MongoClient(uri)\n",
    "        db = client[db_name]\n",
    "        collection = db[collection_name]\n",
    "        \n",
    "        # Query the collection\n",
    "        result = collection.find({}, {\"apkfile_name\": 1, \"apkfile_name_new\": 1, \"_id\": 0})\n",
    "        \n",
    "        # Extract apkfile_name and apkfile_name_new\n",
    "        apkfile_name = [doc.get(\"apkfile_name\") for doc in result]\n",
    "        result.rewind()  # Reset the cursor to fetch data again\n",
    "        apkfile_name_new = [doc.get(\"apkfile_name_new\") for doc in result]\n",
    "        \n",
    "        return apkfile_name, apkfile_name_new\n",
    "    except Exception as e:\n",
    "        print(f\"An error occurred: {e}\")\n",
    "        return [], []"
   ]
  },
  {
   "cell_type": "code",
   "execution_count": 70,
   "id": "dc242cad",
   "metadata": {},
   "outputs": [
    {
     "name": "stdout",
     "output_type": "stream",
     "text": [
      "Audify---Notification-Reader-4.2.0-AndroidManifest.xml\n"
     ]
    }
   ],
   "source": [
    "apkfile_name_array, apkfile_name_new_array = get_apkfile_names_as_arrays(mongoDB_uri, mongoDB_database, mongoDB_collection)\n",
    "#print(\"apkfile_name_new:\", apkfile_name_new_array)\n",
    "for i in range(len(apkfile_name_new_array)):\n",
    "    app_name = os.path.splitext(apkfile_name_new_array[i])[0]\n",
    "    app_manifest_name = app_name + \"-AndroidManifest.xml\"\n",
    "    print(\"-----------------------Delete\"+app_manifest_name+\"-----------------------\")\n",
    "    delete_file(app_manifest_name, manifest_directory)\n",
    "    #break"
   ]
  },
  {
   "cell_type": "code",
   "execution_count": null,
   "id": "79153c90",
   "metadata": {},
   "outputs": [],
   "source": []
  }
 ],
 "metadata": {
  "kernelspec": {
   "display_name": "Python 3 (ipykernel)",
   "language": "python",
   "name": "python3"
  },
  "language_info": {
   "codemirror_mode": {
    "name": "ipython",
    "version": 3
   },
   "file_extension": ".py",
   "mimetype": "text/x-python",
   "name": "python",
   "nbconvert_exporter": "python",
   "pygments_lexer": "ipython3",
   "version": "3.9.13"
  }
 },
 "nbformat": 4,
 "nbformat_minor": 5
}
