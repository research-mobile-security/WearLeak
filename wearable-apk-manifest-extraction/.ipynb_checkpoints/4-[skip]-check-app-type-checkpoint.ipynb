{
 "cells": [
  {
   "cell_type": "code",
   "execution_count": 8,
   "id": "f1426d1e",
   "metadata": {},
   "outputs": [],
   "source": [
    "import xml.etree.ElementTree as ET\n",
    "import pandas as pd\n",
    "import os"
   ]
  },
  {
   "cell_type": "code",
   "execution_count": 9,
   "id": "334f5b90",
   "metadata": {},
   "outputs": [],
   "source": [
    "def classify_app_from_manifest(manifest_file):\n",
    "    try:\n",
    "        # Đọc và phân tích file manifest\n",
    "        tree = ET.parse(manifest_file)\n",
    "        root = tree.getroot()\n",
    "\n",
    "        # Kiểm tra sự tồn tại của thư viện Wear OS\n",
    "        wearable_library_present = False\n",
    "        wearable_library_required = False\n",
    "        standalone_metadata_present = False\n",
    "        standalone_metadata_value = None\n",
    "        \n",
    "        # Danh sách lưu trữ bằng chứng\n",
    "        evidence = []\n",
    "        \n",
    "        # Duyệt qua các phần tử <uses-library> và <meta-data>\n",
    "        for elem in root.findall(\"uses-library\"):\n",
    "            if elem.get(\"android:name\") == \"com.google.android.wearable\":\n",
    "                wearable_library_present = True\n",
    "                evidence.append(\"Found <uses-library> with com.google.android.wearable\")\n",
    "                # Kiểm tra thuộc tính required\n",
    "                if elem.get(\"android:required\") == \"true\":\n",
    "                    wearable_library_required = True\n",
    "                    evidence.append(\"Found required='true' in <uses-library>\")\n",
    "                else:\n",
    "                    evidence.append(\"Found required='false' in <uses-library>\")\n",
    "\n",
    "        # Kiểm tra thẻ <meta-data> để xác định standalone app\n",
    "        for elem in root.findall(\"application/meta-data\"):\n",
    "            if elem.get(\"android:name\") == \"com.google.android.wearable.standalone\":\n",
    "                standalone_metadata_present = True\n",
    "                standalone_metadata_value = elem.get(\"android:value\")\n",
    "                evidence.append(f\"Found <meta-data> com.google.android.wearable.standalone with value={standalone_metadata_value}\")\n",
    "\n",
    "        # Điều kiện phân loại\n",
    "        if not wearable_library_present:\n",
    "            evidence.append(\"No <uses-library> for com.google.android.wearable found\")\n",
    "            return [\"Companion App\", evidence]\n",
    "        elif wearable_library_present and wearable_library_required:\n",
    "            if standalone_metadata_present and standalone_metadata_value == \"true\":\n",
    "                return [\"Standalone App\", evidence]\n",
    "            elif standalone_metadata_present and standalone_metadata_value == \"false\":\n",
    "                return [\"Embedded App\", evidence]\n",
    "            else:\n",
    "                evidence.append(\"No standalone metadata found or metadata value is neither true nor false\")\n",
    "                return [\"Embedded App\", evidence]\n",
    "        else:\n",
    "            return [\"Companion App\", evidence]\n",
    "    except ET.ParseError:\n",
    "        return [\"Invalid Manifest file\", [\"Error parsing the manifest file\"]]\n",
    "def read_csv_and_filter(file_path):\n",
    "    # Read the CSV file into a pandas DataFrame\n",
    "    df = pd.read_csv(file_path)\n",
    "\n",
    "    # Filter rows where the 'manifest' column has a NaN value\n",
    "    filtered_df = df[df['app_group'].isna()]\n",
    "\n",
    "    # Extract the 'apkfile_name' column from the filtered DataFrame\n",
    "    apkfile_names = filtered_df['apkfile_name_new'].tolist()\n",
    "    pkg_names = filtered_df['pkg_name'].tolist()\n",
    "    return apkfile_names, pkg_names\n",
    "# Funtion update CSV data\n",
    "def update_csv_column(csv_path, condition_column, condition_value, update_column, new_value):\n",
    "    # Read the CSV file into a DataFrame\n",
    "    df = pd.read_csv(csv_path)\n",
    "    \n",
    "    # Ensure the update_column is of type object (can hold strings)\n",
    "    df[update_column] = df[update_column].astype(object)\n",
    "\n",
    "    # Print the matching rows (for debugging purposes)\n",
    "    print(f\"Checking for rows where {condition_column} == {condition_value}\")\n",
    "    matching_rows = df.loc[df[condition_column] == condition_value]\n",
    "    print(f\"Found {len(matching_rows)} matching rows\")\n",
    "\n",
    "    # Update the specified column based on the condition\n",
    "    if len(matching_rows) > 0:\n",
    "        df.loc[df[condition_column] == condition_value, update_column] = str(new_value)\n",
    "        print(f\"Updating {update_column} for {condition_value} with {new_value}\")\n",
    "    else:\n",
    "        print(f\"No matching rows found for {condition_value} in {condition_column}\")\n",
    "    \n",
    "    # Write the updated DataFrame back to the CSV file\n",
    "    df.to_csv(csv_path, index=False)\n",
    "    print(f\"CSV updated at {csv_path}\")"
   ]
  },
  {
   "cell_type": "code",
   "execution_count": 10,
   "id": "da127096",
   "metadata": {},
   "outputs": [
    {
     "name": "stdout",
     "output_type": "stream",
     "text": [
      "5285\n"
     ]
    }
   ],
   "source": [
    "csv_path = \"C:\\\\Users\\\\ASUS\\\\anaconda3\\\\wearable-apk-manifest\\\\combine_filtered_cleaned.csv\"\n",
    "xml_directory = \".\\\\manifest-wearable\"\n",
    "apk_file_name_arr, pkg_name_arr  = read_csv_and_filter(csv_path)\n",
    "print(len(apk_file_name_arr))"
   ]
  },
  {
   "cell_type": "code",
   "execution_count": 11,
   "id": "b7e5ba1e",
   "metadata": {},
   "outputs": [
    {
     "name": "stdout",
     "output_type": "stream",
     "text": [
      "---------------------------- Loop-0 ----------------------------\n",
      "apkfile_name_new: Audify---Notification-Reader-4.2.0.apk\n",
      "pkg_name: in.codeseed.audify\n",
      "result ['Companion App', ['No <uses-library> for com.google.android.wearable found']]\n",
      "Checking for rows where pkg_name == in.codeseed.audify\n",
      "Found 1 matching rows\n",
      "Updating app_group for in.codeseed.audify with Companion App\n",
      "CSV updated at C:\\Users\\ASUS\\anaconda3\\wearable-apk-manifest\\combine_filtered_cleaned.csv\n",
      "Checking for rows where pkg_name == in.codeseed.audify\n",
      "Found 1 matching rows\n",
      "Updating app_group_reason for in.codeseed.audify with No <uses-library> for com.google.android.wearable found\n",
      "CSV updated at C:\\Users\\ASUS\\anaconda3\\wearable-apk-manifest\\combine_filtered_cleaned.csv\n"
     ]
    }
   ],
   "source": [
    "for i in range(len(apk_file_name_arr)):\n",
    "    print(\"---------------------------- Loop-\"+str(i)+\" ----------------------------\")\n",
    "    apkfile_name_new = apk_file_name_arr[i]\n",
    "    pkg_name = pkg_name_arr[i]\n",
    "    print(\"apkfile_name_new:\",apkfile_name_new)\n",
    "    print(\"pkg_name:\",pkg_name)\n",
    "    manifest_path = xml_directory+\"\\\\\"+str(os.path.splitext(apkfile_name_new)[0])+\"-AndroidManifest.xml\" \n",
    "    result = classify_app_from_manifest(manifest_path)\n",
    "    print(\"result\",result)\n",
    "    update_csv_column(csv_path, \"pkg_name\", pkg_name, \"app_group\", result[0])\n",
    "    update_csv_column(csv_path, \"pkg_name\", pkg_name, \"app_group_reason\", result[1][0])\n",
    "    #break"
   ]
  }
 ],
 "metadata": {
  "kernelspec": {
   "display_name": "Python 3 (ipykernel)",
   "language": "python",
   "name": "python3"
  },
  "language_info": {
   "codemirror_mode": {
    "name": "ipython",
    "version": 3
   },
   "file_extension": ".py",
   "mimetype": "text/x-python",
   "name": "python",
   "nbconvert_exporter": "python",
   "pygments_lexer": "ipython3",
   "version": "3.9.13"
  }
 },
 "nbformat": 4,
 "nbformat_minor": 5
}
