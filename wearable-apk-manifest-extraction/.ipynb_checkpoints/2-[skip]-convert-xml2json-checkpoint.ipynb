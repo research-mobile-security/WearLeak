{
 "cells": [
  {
   "cell_type": "code",
   "execution_count": 21,
   "id": "ca13891c",
   "metadata": {},
   "outputs": [],
   "source": [
    "# import library\n",
    "from androguard.core.bytecodes.apk import APK\n",
    "import xml.etree.ElementTree as ET\n",
    "import xml.dom.minidom as minidom\n",
    "import pandas as pd\n",
    "import os\n",
    "import xmltodict\n",
    "import json\n",
    "import warnings"
   ]
  },
  {
   "cell_type": "code",
   "execution_count": 22,
   "id": "cc423c98",
   "metadata": {},
   "outputs": [],
   "source": [
    "# 1. Read CSV data file\n",
    "csv_path = \"iotprofiler_apk.csv\"\n",
    "apk_path = \"C:\\\\Users\\\\ASUS\\\\anaconda3\\\\wearable-apk-download-service\\\\iotprofiler\"\n",
    "xml_directory = \".\\\\manifest\"\n",
    "json_directory = \".\\\\json\""
   ]
  },
  {
   "cell_type": "code",
   "execution_count": 23,
   "id": "68c33585",
   "metadata": {},
   "outputs": [],
   "source": [
    "# Funtion read CSV with condition\n",
    "def read_csv_and_filter(file_path):\n",
    "    # Read the CSV file into a pandas DataFrame\n",
    "    df = pd.read_csv(file_path)\n",
    "\n",
    "    # Extract the 'apkfile_name' column from the filtered DataFrame\n",
    "    apkfile_names = df['apkfile_name'].tolist()\n",
    "\n",
    "    return apkfile_names\n",
    "# Function convert XML to JSON\n",
    "def convert_xml_to_json(xml_directory,apkfile_name):\n",
    "    xml_file_path = xml_directory+\"\\\\\"+str(os.path.splitext(apkfile_name)[0])+\"-AndroidManifest.xml\"\n",
    "    json_file_path = json_directory+\"\\\\\"+str(os.path.splitext(apkfile_name)[0])+\"-AndroidManifest.json\"\n",
    "    # Read the XML file\n",
    "    with open(xml_file_path, 'r', encoding='utf-8') as xml_file:\n",
    "        # Parse the XML content\n",
    "        xml_content = xml_file.read()\n",
    "        # Convert XML to JSON\n",
    "        json_data = xmltodict.parse(xml_content, dict_constructor=dict)\n",
    "        # Write JSON to file\n",
    "        with open(json_file_path, 'w', encoding='utf-8') as json_file:\n",
    "            json.dump(json_data, json_file, ensure_ascii=False, indent=2)"
   ]
  },
  {
   "cell_type": "code",
   "execution_count": 24,
   "id": "dd58cd3f",
   "metadata": {},
   "outputs": [
    {
     "name": "stdout",
     "output_type": "stream",
     "text": [
      "6207\n"
     ]
    }
   ],
   "source": [
    "#MAIN\n",
    "apk_file_name_arr = read_csv_and_filter(csv_path)\n",
    "print(len(apk_file_name_arr))"
   ]
  },
  {
   "cell_type": "code",
   "execution_count": 25,
   "id": "227acfe2",
   "metadata": {},
   "outputs": [
    {
     "name": "stdout",
     "output_type": "stream",
     "text": [
      "----------------------------APK Filename-0 :a4_storm.com.a360lock.apk----------------------------\n",
      "apkfile_name a4_storm.com.a360lock.apk\n"
     ]
    }
   ],
   "source": [
    "for i in range(len(apk_file_name_arr)):\n",
    "    apkfile_name = apk_file_name_arr[i]\n",
    "    print(\"----------------------------APK Filename-\"+str(i)+\" :\"+apkfile_name+\"----------------------------\")\n",
    "    print(\"apkfile_name\",apkfile_name)\n",
    "    convert_xml_to_json(xml_directory,apkfile_name)\n",
    "    #break"
   ]
  }
 ],
 "metadata": {
  "kernelspec": {
   "display_name": "Python 3 (ipykernel)",
   "language": "python",
   "name": "python3"
  },
  "language_info": {
   "codemirror_mode": {
    "name": "ipython",
    "version": 3
   },
   "file_extension": ".py",
   "mimetype": "text/x-python",
   "name": "python",
   "nbconvert_exporter": "python",
   "pygments_lexer": "ipython3",
   "version": "3.9.13"
  }
 },
 "nbformat": 4,
 "nbformat_minor": 5
}
