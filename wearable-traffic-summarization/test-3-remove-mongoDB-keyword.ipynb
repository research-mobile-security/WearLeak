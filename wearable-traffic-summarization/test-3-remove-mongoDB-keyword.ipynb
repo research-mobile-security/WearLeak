{
 "cells": [
  {
   "cell_type": "code",
   "execution_count": 2,
   "id": "a5a30f35",
   "metadata": {},
   "outputs": [
    {
     "name": "stdout",
     "output_type": "stream",
     "text": [
      "All occurrences of 'privacy-compliance' field have been removed.\n"
     ]
    }
   ],
   "source": [
    "from pymongo import MongoClient\n",
    "\n",
    "# MongoDB connection details\n",
    "mongoDB_uri = 'mongodb://192.168.1.14:27017'\n",
    "mongoDB_database = 'wearable-project'\n",
    "mongoDB_collection = 'wearable-standalone'\n",
    "\n",
    "# Connect to MongoDB\n",
    "client = MongoClient(mongoDB_uri)\n",
    "db = client[mongoDB_database]\n",
    "collection = db[mongoDB_collection]\n",
    "\n",
    "# Remove the \"sensitive-data\" field from all documents\n",
    "collection.update_many({}, {\"$unset\": {\"privacy-compliance\": \"\"}})\n",
    "\n",
    "print(\"All occurrences of 'privacy-compliance' field have been removed.\")\n"
   ]
  }
 ],
 "metadata": {
  "kernelspec": {
   "display_name": "Python 3 (ipykernel)",
   "language": "python",
   "name": "python3"
  },
  "language_info": {
   "codemirror_mode": {
    "name": "ipython",
    "version": 3
   },
   "file_extension": ".py",
   "mimetype": "text/x-python",
   "name": "python",
   "nbconvert_exporter": "python",
   "pygments_lexer": "ipython3",
   "version": "3.9.13"
  }
 },
 "nbformat": 4,
 "nbformat_minor": 5
}
