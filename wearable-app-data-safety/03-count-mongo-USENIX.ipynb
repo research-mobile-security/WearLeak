{
 "cells": [
  {
   "cell_type": "code",
   "execution_count": 2,
   "id": "59760bbe",
   "metadata": {},
   "outputs": [
    {
     "name": "stdout",
     "output_type": "stream",
     "text": [
      "Number of documents with 'APK not found': 4343\n",
      "Number of documents with 'APK not found': 845\n"
     ]
    }
   ],
   "source": [
    "from pymongo import MongoClient\n",
    "\n",
    "def count_documents_with_apk_not_found(collection):\n",
    "    \"\"\"\n",
    "    Count documents in the MongoDB collection that contain:\n",
    "    \"data-collected\": \"APK not found\" and \"data-shared\": \"APK not found\"\n",
    "\n",
    "    :param collection: MongoDB collection object\n",
    "    :return: Number of matching documents\n",
    "    \"\"\"\n",
    "    try:\n",
    "        # Query to find documents that match both conditions\n",
    "        query = {\n",
    "            \"data-collected\": \"APK not found\",\n",
    "            \"data-shared\": \"APK not found\"\n",
    "        }\n",
    "        \n",
    "        count = collection.count_documents(query)\n",
    "        return count\n",
    "    except Exception as e:\n",
    "        print(f\"An error occurred: {e}\")\n",
    "        return None\n",
    "def count_documents_with_apk_no_information(collection):\n",
    "    \"\"\"\n",
    "    Count documents in the MongoDB collection that contain:\n",
    "    \"data-collected\": \"APK not found\" and \"data-shared\": \"APK not found\"\n",
    "\n",
    "    :param collection: MongoDB collection object\n",
    "    :return: Number of matching documents\n",
    "    \"\"\"\n",
    "    try:\n",
    "        # Query to find documents that match both conditions\n",
    "        query = {\n",
    "            \"data-collected\": \"No information\",\n",
    "            \"data-shared\": \"No information\"\n",
    "        }\n",
    "        \n",
    "        count = collection.count_documents(query)\n",
    "        return count\n",
    "    except Exception as e:\n",
    "        print(f\"An error occurred: {e}\")\n",
    "        return None\n",
    "# Example usage\n",
    "if __name__ == \"__main__\":\n",
    "    mongoDB_uri = 'mongodb://localhost:27017'\n",
    "    mongoDB_database = 'wearable-project'\n",
    "    mongoDB_collection = 'iot-usenix'\n",
    "\n",
    "    # Connect to MongoDB collection\n",
    "    def connect_mongodb(uri, db_name, collection_name):\n",
    "        client = MongoClient(uri)\n",
    "        db = client[db_name]\n",
    "        collection = db[collection_name]\n",
    "        return collection\n",
    "\n",
    "    collection = connect_mongodb(mongoDB_uri, mongoDB_database, mongoDB_collection)\n",
    "\n",
    "    # Count matching documents\n",
    "    count = count_documents_with_apk_not_found(collection)\n",
    "    print(f\"Number of documents with 'APK not found': {count}\")\n",
    "    count_no_information = count_documents_with_apk_no_information(collection)\n",
    "    print(f\"Number of documents with 'APK not found': {count_no_information}\")"
   ]
  }
 ],
 "metadata": {
  "kernelspec": {
   "display_name": "Python 3 (ipykernel)",
   "language": "python",
   "name": "python3"
  },
  "language_info": {
   "codemirror_mode": {
    "name": "ipython",
    "version": 3
   },
   "file_extension": ".py",
   "mimetype": "text/x-python",
   "name": "python",
   "nbconvert_exporter": "python",
   "pygments_lexer": "ipython3",
   "version": "3.9.13"
  }
 },
 "nbformat": 4,
 "nbformat_minor": 5
}
